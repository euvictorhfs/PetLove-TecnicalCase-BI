{
  "cells": [
    {
      "cell_type": "markdown",
      "metadata": {
        "id": "view-in-github",
        "colab_type": "text"
      },
      "source": [
        "<a href=\"https://colab.research.google.com/github/euvictorhfs/Dados/blob/main/CaseBI/amostraPetLove.ipynb\" target=\"_parent\"><img src=\"https://colab.research.google.com/assets/colab-badge.svg\" alt=\"Open In Colab\"/></a>"
      ]
    },
    {
      "cell_type": "markdown",
      "metadata": {
        "id": "iKRWKrlvo95P"
      },
      "source": [
        "# Bibliotecas"
      ]
    },
    {
      "cell_type": "code",
      "source": [
        "#!python -m pip uninstall matplotlib\n",
        "#!pip install matplotlib==3.1.3"
      ],
      "metadata": {
        "id": "dJ2N2ENK4-D0"
      },
      "execution_count": null,
      "outputs": []
    },
    {
      "cell_type": "code",
      "source": [
        "#!pip install importlib-metadata==4.11.2"
      ],
      "metadata": {
        "id": "aJgyzFOU5zW7"
      },
      "execution_count": null,
      "outputs": []
    },
    {
      "cell_type": "code",
      "source": [
        "#!pip install matplotlib --upgrade"
      ],
      "metadata": {
        "id": "yte4JjuEjEsy"
      },
      "execution_count": null,
      "outputs": []
    },
    {
      "cell_type": "code",
      "source": [
        "#!pip install seaborn --upgrade"
      ],
      "metadata": {
        "id": "e2OjUTVQjFKM"
      },
      "execution_count": null,
      "outputs": []
    },
    {
      "cell_type": "code",
      "execution_count": null,
      "metadata": {
        "id": "dTz8iTHWfX-0"
      },
      "outputs": [],
      "source": [
        "import numpy as np\n",
        "import pandas as pd\n",
        "#%matplotlib inline\n",
        "import matplotlib as plt\n",
        "import seaborn as sns\n",
        "#import lifelines\n",
        "import datetime as dt\n",
        "from pandas.tseries import frequencies"
      ]
    },
    {
      "cell_type": "code",
      "source": [
        "!pip install -q -U watermark\n",
        "%reload_ext watermark\n",
        "from platform import python_version\n",
        "print('Versão do Python utilizado neste Notebook:', python_version())\n",
        "%watermark -a \"Victor Hugo Ferreira da Silva - Case BI PetLove&Co\" --iversions\n",
        "import warnings\n",
        "import sys\n",
        "warnings.simplefilter(action='ignore', category=FutureWarning)\n",
        "warnings.filterwarnings(\"ignore\", category=FutureWarning)\n",
        "if not sys.warnoptions:\n",
        "    warnings.simplefilter(\"ignore\")"
      ],
      "metadata": {
        "colab": {
          "base_uri": "https://localhost:8080/"
        },
        "id": "HkFw3Prk1soU",
        "outputId": "3a3b367d-8982-4831-ceea-ecd21f9a3b9b"
      },
      "execution_count": null,
      "outputs": [
        {
          "output_type": "stream",
          "name": "stdout",
          "text": [
            "Versão do Python utilizado neste Notebook: 3.7.12\n",
            "Author: Victor Hugo Ferreira da Silva - Case BI PetLove&Co\n",
            "\n",
            "seaborn   : 0.11.2\n",
            "matplotlib: 3.2.2\n",
            "numpy     : 1.21.5\n",
            "IPython   : 5.5.0\n",
            "pandas    : 1.3.5\n",
            "\n"
          ]
        }
      ]
    },
    {
      "cell_type": "code",
      "execution_count": null,
      "metadata": {
        "id": "SBnw9FNuMt8z"
      },
      "outputs": [],
      "source": [
        "# Resumo do dataframe\n",
        "def resumo(df):\n",
        "\n",
        "    print(f\"Dataset Shape: {df.shape}\")\n",
        "    summary = pd.DataFrame(df.dtypes,columns=['dtypes'])\n",
        "    summary = summary.reset_index()\n",
        "    summary['First Value'] = df.loc[0].values \n",
        "    summary['Missing'] = df.isnull().sum().values    \n",
        "    summary['Uniques'] = df.nunique().values\n",
        "    \n",
        "    return summary"
      ]
    },
    {
      "cell_type": "markdown",
      "metadata": {
        "id": "LrAcr4L4weIq"
      },
      "source": [
        "# Fonte de dados"
      ]
    },
    {
      "cell_type": "markdown",
      "source": [
        "Uso de dados com parcimônia para economia de processamento e recursos cloud em um contexto de governança entendendo quais dados são importantes a serem analisados."
      ],
      "metadata": {
        "id": "ZWJERvSBUdyY"
      }
    },
    {
      "cell_type": "code",
      "execution_count": null,
      "metadata": {
        "id": "YxvRSNyrzvJ7"
      },
      "outputs": [],
      "source": [
        "# Importação das 10 primeiras linhas\n",
        "petlove = pd.read_csv ('https://s3.amazonaws.com/gupy5/production/companies/294/emails/1644871691997/68b12e50-8dd7-11ec-a146-f102a206148e/data-test-analytics.csv',\n",
        "                       nrows=10)"
      ]
    },
    {
      "cell_type": "code",
      "execution_count": null,
      "metadata": {
        "colab": {
          "base_uri": "https://localhost:8080/"
        },
        "id": "hwI2ll_MPDav",
        "outputId": "7bbb9ae2-7cd5-48e5-8164-ce5196681e61"
      },
      "outputs": [
        {
          "output_type": "stream",
          "name": "stdout",
          "text": [
            "(10, 20)\n"
          ]
        }
      ],
      "source": [
        "# Verificação da importação\n",
        "print(petlove.shape)"
      ]
    },
    {
      "cell_type": "markdown",
      "source": [
        "Antes de me aprofundar em todas as informações, vou analisar os primeiros registros para entender a base de dados."
      ],
      "metadata": {
        "id": "9TOMHpsgPPGI"
      }
    },
    {
      "cell_type": "markdown",
      "source": [
        "## Briefing (Case BI)"
      ],
      "metadata": {
        "id": "4BVf7GPVKyaT"
      }
    },
    {
      "cell_type": "code",
      "source": [
        "resumo(petlove)"
      ],
      "metadata": {
        "colab": {
          "base_uri": "https://localhost:8080/"
        },
        "id": "ztLFjp5YXkHt",
        "outputId": "85baa601-1ea2-4b60-a94b-4f27cb220c44"
      },
      "execution_count": null,
      "outputs": [
        {
          "output_type": "stream",
          "name": "stdout",
          "text": [
            "Dataset Shape: (10, 20)\n"
          ]
        },
        {
          "output_type": "execute_result",
          "data": {
            "text/plain": [
              "                 index   dtypes                           First Value  \\\n",
              "0                   id   object  8bf7960e-3b93-468b-856e-6c6c5b56f52b   \n",
              "1           created_at   object                     08/15/17 07:05 AM   \n",
              "2           updated_at   object                     01/14/21 11:23 AM   \n",
              "3           deleted_at  float64                                   NaN   \n",
              "4            name_hash   object      312d206168a318614897e8ccac43bff9   \n",
              "5           email_hash   object      83eb3aed9a44377df80ce876dce92c9a   \n",
              "6         address_hash   object      8b4bfaa0cbc41a16f46da15ddcd6a907   \n",
              "7           birth_date   object                     07/10/74 12:00 AM   \n",
              "8               status   object                                active   \n",
              "9              version   object                                2.31.7   \n",
              "10                city   object                      Peixoto da Praia   \n",
              "11               state   object                                    AM   \n",
              "12        neighborhood   object                    Aparecida 7ª Seção   \n",
              "13  last_date_purchase   object                     01/14/21 11:23 AM   \n",
              "14      average_ticket  float64                            151.142942   \n",
              "15      items_quantity    int64                                    10   \n",
              "16         all_revenue  float64                            906.857651   \n",
              "17          all_orders    int64                                     6   \n",
              "18             recency    int64                                    35   \n",
              "19    marketing_source   object                                   crm   \n",
              "\n",
              "    Missing  Uniques  \n",
              "0         0       10  \n",
              "1         0       10  \n",
              "2         0        8  \n",
              "3        10        0  \n",
              "4         0       10  \n",
              "5         0       10  \n",
              "6         0       10  \n",
              "7         0       10  \n",
              "8         0        2  \n",
              "9         0       10  \n",
              "10        0        9  \n",
              "11        0        7  \n",
              "12        0       10  \n",
              "13        0        8  \n",
              "14        0       10  \n",
              "15        0        7  \n",
              "16        0       10  \n",
              "17        0        7  \n",
              "18        0        8  \n",
              "19        0        4  "
            ],
            "text/html": [
              "\n",
              "  <div id=\"df-57ea39bd-9829-4cef-9b41-0f42cee23c60\">\n",
              "    <div class=\"colab-df-container\">\n",
              "      <div>\n",
              "<style scoped>\n",
              "    .dataframe tbody tr th:only-of-type {\n",
              "        vertical-align: middle;\n",
              "    }\n",
              "\n",
              "    .dataframe tbody tr th {\n",
              "        vertical-align: top;\n",
              "    }\n",
              "\n",
              "    .dataframe thead th {\n",
              "        text-align: right;\n",
              "    }\n",
              "</style>\n",
              "<table border=\"1\" class=\"dataframe\">\n",
              "  <thead>\n",
              "    <tr style=\"text-align: right;\">\n",
              "      <th></th>\n",
              "      <th>index</th>\n",
              "      <th>dtypes</th>\n",
              "      <th>First Value</th>\n",
              "      <th>Missing</th>\n",
              "      <th>Uniques</th>\n",
              "    </tr>\n",
              "  </thead>\n",
              "  <tbody>\n",
              "    <tr>\n",
              "      <th>0</th>\n",
              "      <td>id</td>\n",
              "      <td>object</td>\n",
              "      <td>8bf7960e-3b93-468b-856e-6c6c5b56f52b</td>\n",
              "      <td>0</td>\n",
              "      <td>10</td>\n",
              "    </tr>\n",
              "    <tr>\n",
              "      <th>1</th>\n",
              "      <td>created_at</td>\n",
              "      <td>object</td>\n",
              "      <td>08/15/17 07:05 AM</td>\n",
              "      <td>0</td>\n",
              "      <td>10</td>\n",
              "    </tr>\n",
              "    <tr>\n",
              "      <th>2</th>\n",
              "      <td>updated_at</td>\n",
              "      <td>object</td>\n",
              "      <td>01/14/21 11:23 AM</td>\n",
              "      <td>0</td>\n",
              "      <td>8</td>\n",
              "    </tr>\n",
              "    <tr>\n",
              "      <th>3</th>\n",
              "      <td>deleted_at</td>\n",
              "      <td>float64</td>\n",
              "      <td>NaN</td>\n",
              "      <td>10</td>\n",
              "      <td>0</td>\n",
              "    </tr>\n",
              "    <tr>\n",
              "      <th>4</th>\n",
              "      <td>name_hash</td>\n",
              "      <td>object</td>\n",
              "      <td>312d206168a318614897e8ccac43bff9</td>\n",
              "      <td>0</td>\n",
              "      <td>10</td>\n",
              "    </tr>\n",
              "    <tr>\n",
              "      <th>5</th>\n",
              "      <td>email_hash</td>\n",
              "      <td>object</td>\n",
              "      <td>83eb3aed9a44377df80ce876dce92c9a</td>\n",
              "      <td>0</td>\n",
              "      <td>10</td>\n",
              "    </tr>\n",
              "    <tr>\n",
              "      <th>6</th>\n",
              "      <td>address_hash</td>\n",
              "      <td>object</td>\n",
              "      <td>8b4bfaa0cbc41a16f46da15ddcd6a907</td>\n",
              "      <td>0</td>\n",
              "      <td>10</td>\n",
              "    </tr>\n",
              "    <tr>\n",
              "      <th>7</th>\n",
              "      <td>birth_date</td>\n",
              "      <td>object</td>\n",
              "      <td>07/10/74 12:00 AM</td>\n",
              "      <td>0</td>\n",
              "      <td>10</td>\n",
              "    </tr>\n",
              "    <tr>\n",
              "      <th>8</th>\n",
              "      <td>status</td>\n",
              "      <td>object</td>\n",
              "      <td>active</td>\n",
              "      <td>0</td>\n",
              "      <td>2</td>\n",
              "    </tr>\n",
              "    <tr>\n",
              "      <th>9</th>\n",
              "      <td>version</td>\n",
              "      <td>object</td>\n",
              "      <td>2.31.7</td>\n",
              "      <td>0</td>\n",
              "      <td>10</td>\n",
              "    </tr>\n",
              "    <tr>\n",
              "      <th>10</th>\n",
              "      <td>city</td>\n",
              "      <td>object</td>\n",
              "      <td>Peixoto da Praia</td>\n",
              "      <td>0</td>\n",
              "      <td>9</td>\n",
              "    </tr>\n",
              "    <tr>\n",
              "      <th>11</th>\n",
              "      <td>state</td>\n",
              "      <td>object</td>\n",
              "      <td>AM</td>\n",
              "      <td>0</td>\n",
              "      <td>7</td>\n",
              "    </tr>\n",
              "    <tr>\n",
              "      <th>12</th>\n",
              "      <td>neighborhood</td>\n",
              "      <td>object</td>\n",
              "      <td>Aparecida 7ª Seção</td>\n",
              "      <td>0</td>\n",
              "      <td>10</td>\n",
              "    </tr>\n",
              "    <tr>\n",
              "      <th>13</th>\n",
              "      <td>last_date_purchase</td>\n",
              "      <td>object</td>\n",
              "      <td>01/14/21 11:23 AM</td>\n",
              "      <td>0</td>\n",
              "      <td>8</td>\n",
              "    </tr>\n",
              "    <tr>\n",
              "      <th>14</th>\n",
              "      <td>average_ticket</td>\n",
              "      <td>float64</td>\n",
              "      <td>151.142942</td>\n",
              "      <td>0</td>\n",
              "      <td>10</td>\n",
              "    </tr>\n",
              "    <tr>\n",
              "      <th>15</th>\n",
              "      <td>items_quantity</td>\n",
              "      <td>int64</td>\n",
              "      <td>10</td>\n",
              "      <td>0</td>\n",
              "      <td>7</td>\n",
              "    </tr>\n",
              "    <tr>\n",
              "      <th>16</th>\n",
              "      <td>all_revenue</td>\n",
              "      <td>float64</td>\n",
              "      <td>906.857651</td>\n",
              "      <td>0</td>\n",
              "      <td>10</td>\n",
              "    </tr>\n",
              "    <tr>\n",
              "      <th>17</th>\n",
              "      <td>all_orders</td>\n",
              "      <td>int64</td>\n",
              "      <td>6</td>\n",
              "      <td>0</td>\n",
              "      <td>7</td>\n",
              "    </tr>\n",
              "    <tr>\n",
              "      <th>18</th>\n",
              "      <td>recency</td>\n",
              "      <td>int64</td>\n",
              "      <td>35</td>\n",
              "      <td>0</td>\n",
              "      <td>8</td>\n",
              "    </tr>\n",
              "    <tr>\n",
              "      <th>19</th>\n",
              "      <td>marketing_source</td>\n",
              "      <td>object</td>\n",
              "      <td>crm</td>\n",
              "      <td>0</td>\n",
              "      <td>4</td>\n",
              "    </tr>\n",
              "  </tbody>\n",
              "</table>\n",
              "</div>\n",
              "      <button class=\"colab-df-convert\" onclick=\"convertToInteractive('df-57ea39bd-9829-4cef-9b41-0f42cee23c60')\"\n",
              "              title=\"Convert this dataframe to an interactive table.\"\n",
              "              style=\"display:none;\">\n",
              "        \n",
              "  <svg xmlns=\"http://www.w3.org/2000/svg\" height=\"24px\"viewBox=\"0 0 24 24\"\n",
              "       width=\"24px\">\n",
              "    <path d=\"M0 0h24v24H0V0z\" fill=\"none\"/>\n",
              "    <path d=\"M18.56 5.44l.94 2.06.94-2.06 2.06-.94-2.06-.94-.94-2.06-.94 2.06-2.06.94zm-11 1L8.5 8.5l.94-2.06 2.06-.94-2.06-.94L8.5 2.5l-.94 2.06-2.06.94zm10 10l.94 2.06.94-2.06 2.06-.94-2.06-.94-.94-2.06-.94 2.06-2.06.94z\"/><path d=\"M17.41 7.96l-1.37-1.37c-.4-.4-.92-.59-1.43-.59-.52 0-1.04.2-1.43.59L10.3 9.45l-7.72 7.72c-.78.78-.78 2.05 0 2.83L4 21.41c.39.39.9.59 1.41.59.51 0 1.02-.2 1.41-.59l7.78-7.78 2.81-2.81c.8-.78.8-2.07 0-2.86zM5.41 20L4 18.59l7.72-7.72 1.47 1.35L5.41 20z\"/>\n",
              "  </svg>\n",
              "      </button>\n",
              "      \n",
              "  <style>\n",
              "    .colab-df-container {\n",
              "      display:flex;\n",
              "      flex-wrap:wrap;\n",
              "      gap: 12px;\n",
              "    }\n",
              "\n",
              "    .colab-df-convert {\n",
              "      background-color: #E8F0FE;\n",
              "      border: none;\n",
              "      border-radius: 50%;\n",
              "      cursor: pointer;\n",
              "      display: none;\n",
              "      fill: #1967D2;\n",
              "      height: 32px;\n",
              "      padding: 0 0 0 0;\n",
              "      width: 32px;\n",
              "    }\n",
              "\n",
              "    .colab-df-convert:hover {\n",
              "      background-color: #E2EBFA;\n",
              "      box-shadow: 0px 1px 2px rgba(60, 64, 67, 0.3), 0px 1px 3px 1px rgba(60, 64, 67, 0.15);\n",
              "      fill: #174EA6;\n",
              "    }\n",
              "\n",
              "    [theme=dark] .colab-df-convert {\n",
              "      background-color: #3B4455;\n",
              "      fill: #D2E3FC;\n",
              "    }\n",
              "\n",
              "    [theme=dark] .colab-df-convert:hover {\n",
              "      background-color: #434B5C;\n",
              "      box-shadow: 0px 1px 3px 1px rgba(0, 0, 0, 0.15);\n",
              "      filter: drop-shadow(0px 1px 2px rgba(0, 0, 0, 0.3));\n",
              "      fill: #FFFFFF;\n",
              "    }\n",
              "  </style>\n",
              "\n",
              "      <script>\n",
              "        const buttonEl =\n",
              "          document.querySelector('#df-57ea39bd-9829-4cef-9b41-0f42cee23c60 button.colab-df-convert');\n",
              "        buttonEl.style.display =\n",
              "          google.colab.kernel.accessAllowed ? 'block' : 'none';\n",
              "\n",
              "        async function convertToInteractive(key) {\n",
              "          const element = document.querySelector('#df-57ea39bd-9829-4cef-9b41-0f42cee23c60');\n",
              "          const dataTable =\n",
              "            await google.colab.kernel.invokeFunction('convertToInteractive',\n",
              "                                                     [key], {});\n",
              "          if (!dataTable) return;\n",
              "\n",
              "          const docLinkHtml = 'Like what you see? Visit the ' +\n",
              "            '<a target=\"_blank\" href=https://colab.research.google.com/notebooks/data_table.ipynb>data table notebook</a>'\n",
              "            + ' to learn more about interactive tables.';\n",
              "          element.innerHTML = '';\n",
              "          dataTable['output_type'] = 'display_data';\n",
              "          await google.colab.output.renderOutput(dataTable, element);\n",
              "          const docLink = document.createElement('div');\n",
              "          docLink.innerHTML = docLinkHtml;\n",
              "          element.appendChild(docLink);\n",
              "        }\n",
              "      </script>\n",
              "    </div>\n",
              "  </div>\n",
              "  "
            ]
          },
          "metadata": {},
          "execution_count": 10
        }
      ]
    },
    {
      "cell_type": "markdown",
      "metadata": {
        "id": "5pcrmRbZnH4m"
      },
      "source": [
        "Com exceção dos valores numéricos, todos os outros valores são do tipo objeto. O briefing informa quais os dados criptografados.\n",
        "\n",
        "Nesse ínterim, não irei importar as colunas criptografadas: ***name_hash***, ***email_hash*** e ***address_hash***.\n",
        "\n",
        "Além destas, a coluna de ***IDs*** dos clientes também está criptografada e, para responder a pergunta de negócio, esse dado não é variável explicativa e também será removida."
      ]
    },
    {
      "cell_type": "code",
      "source": [
        "# remover colunas: id, name_hash, email_hash, address_hash."
      ],
      "metadata": {
        "id": "dhEyZ2nXZpwt"
      },
      "execution_count": null,
      "outputs": []
    },
    {
      "cell_type": "markdown",
      "source": [
        "Outras colunas que me despertaram atenção foram as ***city***, ***neighborhood*** e ***state***. Realizei uma pesquisa no www.google.com e não existe bairro chamado **Aparecida 7ª Seção no Amazonas**, nem a **cidade Peixoto da Praia no Amazonas**. Analisando outros valores, Braúnas, é uma cidade de Belo Horizonte, MG (não é de SC; não é um bairro). A coluna de cidades aparenta ser o sobrenome dos clientes."
      ],
      "metadata": {
        "id": "HyUKrIT8Netr"
      }
    },
    {
      "cell_type": "code",
      "source": [
        "print(petlove.loc[:,['neighborhood','city','state']])"
      ],
      "metadata": {
        "colab": {
          "base_uri": "https://localhost:8080/"
        },
        "id": "WtR8JI87Y0wO",
        "outputId": "e1afbfb7-bcd3-43a0-c146-ad7da2bb1449"
      },
      "execution_count": null,
      "outputs": [
        {
          "output_type": "stream",
          "name": "stdout",
          "text": [
            "                neighborhood               city state\n",
            "0         Aparecida 7ª Seção   Peixoto da Praia    AM\n",
            "1               Santa Isabel          Fernandes    RR\n",
            "2                    Estrela              Lopes    RR\n",
            "3                   Confisco    Campos do Campo    PE\n",
            "4  Vila Suzana Segunda Seção          das Neves    RJ\n",
            "5                 Vila Maria             Aragão    AM\n",
            "6                    Braúnas              Lopes    MT\n",
            "7                    Bacurau     Pereira Grande    SC\n",
            "8                     Piraja   Fernandes Alegre    PR\n",
            "9            Padre Eustáquio     Cardoso do Sul    MT\n"
          ]
        }
      ]
    },
    {
      "cell_type": "code",
      "source": [
        "# remover colunas: neighborhood, city."
      ],
      "metadata": {
        "id": "MJoCrmEBZ1Dl"
      },
      "execution_count": null,
      "outputs": []
    },
    {
      "cell_type": "markdown",
      "source": [
        "A coluna com campos vazios da ***deleted_at*** faz sentido, pois os clientes ativos não cancelaram sua assinatura e essa coluna servirá como base para criação de novos dados."
      ],
      "metadata": {
        "id": "g1PKv5lbOjuy"
      }
    },
    {
      "cell_type": "code",
      "source": [
        "print(petlove.loc[:,['deleted_at','status']])"
      ],
      "metadata": {
        "colab": {
          "base_uri": "https://localhost:8080/"
        },
        "id": "bIbyUr0-Z-Nx",
        "outputId": "3cac7284-e8cf-4542-adb2-51d80aa009e4"
      },
      "execution_count": null,
      "outputs": [
        {
          "output_type": "stream",
          "name": "stdout",
          "text": [
            "   deleted_at  status\n",
            "0         NaN  active\n",
            "1         NaN  paused\n",
            "2         NaN  active\n",
            "3         NaN  active\n",
            "4         NaN  active\n",
            "5         NaN  active\n",
            "6         NaN  active\n",
            "7         NaN  active\n",
            "8         NaN  active\n",
            "9         NaN  active\n"
          ]
        }
      ]
    },
    {
      "cell_type": "code",
      "source": [
        "# criar coluna boleana Exit = \"Sim, Não\"\n",
        "# criar coluna int Tenure = \"tempo, em dias, que o cliente possuiu o serviço\"\n",
        "# após, deletar coluna deleted_at e status"
      ],
      "metadata": {
        "id": "6cITkCUCaHCK"
      },
      "execution_count": null,
      "outputs": []
    },
    {
      "cell_type": "markdown",
      "source": [
        "## Contexto de negócio (Churn/Mkt)"
      ],
      "metadata": {
        "id": "ok5-yxjZTw27"
      }
    },
    {
      "cell_type": "markdown",
      "source": [
        "Por fim, com essa primeira limpeza para evitar a poluição de informações, preciso entender o **contexto de negócio**: participar da equipe de assinatura para identificar **quem são os usuários** que tem probabilidade de cancelar a assinatura com base nos **indicadores de churn**.\n",
        "\n",
        "Como meu papel será de apoio para agregar o *time de marketing*, minha análise exploratória será focada em **estatística descritiva**."
      ],
      "metadata": {
        "id": "D_TqhpIbQBjJ"
      }
    },
    {
      "cell_type": "markdown",
      "source": [
        "Entendendo esses dados e o contexto do negócio, agora irei **reimportar o dataset** economizando o processamento de dados via cloud, facilitando minha análise.\n",
        "\n",
        "Vou aproveitar o ensejo para reimportar já categorizando os **tipos de dados**."
      ],
      "metadata": {
        "id": "NHmNHhLmPoSi"
      }
    },
    {
      "cell_type": "code",
      "execution_count": null,
      "metadata": {
        "colab": {
          "base_uri": "https://localhost:8080/"
        },
        "id": "ArQmOn54nKDa",
        "outputId": "ffe47153-25e6-403c-fb91-28fc02a441f4"
      },
      "outputs": [
        {
          "output_type": "execute_result",
          "data": {
            "text/plain": [
              "array(['id', 'created_at', 'updated_at', 'deleted_at', 'name_hash',\n",
              "       'email_hash', 'address_hash', 'birth_date', 'status', 'version',\n",
              "       'city', 'state', 'neighborhood', 'last_date_purchase',\n",
              "       'average_ticket', 'items_quantity', 'all_revenue', 'all_orders',\n",
              "       'recency', 'marketing_source'], dtype=object)"
            ]
          },
          "metadata": {},
          "execution_count": 16
        }
      ],
      "source": [
        "# sumarizando nome das colunas para copiar\n",
        "petlove.columns.values"
      ]
    },
    {
      "cell_type": "code",
      "execution_count": null,
      "metadata": {
        "id": "dYry72v7nL9i"
      },
      "outputs": [],
      "source": [
        "# Reimportando o dataset com conversão de objetos\n",
        "petlove = pd.read_csv('https://s3.amazonaws.com/gupy5/production/companies/294/emails/1644871691997/68b12e50-8dd7-11ec-a146-f102a206148e/data-test-analytics.csv',\n",
        "                 encoding='utf-8',\n",
        "                 sep=',',\n",
        "                 usecols=[\n",
        "                   'created_at', 'updated_at', 'deleted_at', 'birth_date',\n",
        "                   'status', 'version', 'state', 'last_date_purchase',\n",
        "                   'average_ticket', 'items_quantity', 'all_revenue',\n",
        "                   'all_orders', 'recency', 'marketing_source'],\n",
        "                 dtype={\n",
        "                     'status':'category',\n",
        "                     'state':'category',\n",
        "                     'marketing_source':'category'},\n",
        "                  parse_dates=['created_at', 'updated_at', 'deleted_at', 'birth_date', 'last_date_purchase'],\n",
        "                  )"
      ]
    },
    {
      "cell_type": "code",
      "source": [
        "resumo(petlove)"
      ],
      "metadata": {
        "colab": {
          "base_uri": "https://localhost:8080/"
        },
        "id": "dLhuyx0rcbNS",
        "outputId": "dfd2331b-df21-4c99-8266-50e0493a8d69"
      },
      "execution_count": null,
      "outputs": [
        {
          "output_type": "stream",
          "name": "stdout",
          "text": [
            "Dataset Shape: (10000, 14)\n"
          ]
        },
        {
          "output_type": "execute_result",
          "data": {
            "text/plain": [
              "                 index          dtypes          First Value  Missing  Uniques\n",
              "0           created_at  datetime64[ns]  2017-08-15 07:05:00        0     9975\n",
              "1           updated_at  datetime64[ns]  2021-01-14 11:23:00        0      550\n",
              "2           deleted_at  datetime64[ns]                  NaT     9495      505\n",
              "3           birth_date  datetime64[ns]  1974-07-10 00:00:00        0     7876\n",
              "4               status        category               active        0        3\n",
              "5              version          object               2.31.7        0     2905\n",
              "6                state        category                   AM        0       27\n",
              "7   last_date_purchase  datetime64[ns]  2021-01-14 11:23:00        0      550\n",
              "8       average_ticket         float64           151.142942        0    10000\n",
              "9       items_quantity           int64                   10        0       19\n",
              "10         all_revenue         float64           906.857651        0     9069\n",
              "11          all_orders           int64                    6        0       12\n",
              "12             recency           int64                   35        0      463\n",
              "13    marketing_source        category                  crm        0        6"
            ],
            "text/html": [
              "\n",
              "  <div id=\"df-55d18114-5c15-4959-ad87-79599d339c1f\">\n",
              "    <div class=\"colab-df-container\">\n",
              "      <div>\n",
              "<style scoped>\n",
              "    .dataframe tbody tr th:only-of-type {\n",
              "        vertical-align: middle;\n",
              "    }\n",
              "\n",
              "    .dataframe tbody tr th {\n",
              "        vertical-align: top;\n",
              "    }\n",
              "\n",
              "    .dataframe thead th {\n",
              "        text-align: right;\n",
              "    }\n",
              "</style>\n",
              "<table border=\"1\" class=\"dataframe\">\n",
              "  <thead>\n",
              "    <tr style=\"text-align: right;\">\n",
              "      <th></th>\n",
              "      <th>index</th>\n",
              "      <th>dtypes</th>\n",
              "      <th>First Value</th>\n",
              "      <th>Missing</th>\n",
              "      <th>Uniques</th>\n",
              "    </tr>\n",
              "  </thead>\n",
              "  <tbody>\n",
              "    <tr>\n",
              "      <th>0</th>\n",
              "      <td>created_at</td>\n",
              "      <td>datetime64[ns]</td>\n",
              "      <td>2017-08-15 07:05:00</td>\n",
              "      <td>0</td>\n",
              "      <td>9975</td>\n",
              "    </tr>\n",
              "    <tr>\n",
              "      <th>1</th>\n",
              "      <td>updated_at</td>\n",
              "      <td>datetime64[ns]</td>\n",
              "      <td>2021-01-14 11:23:00</td>\n",
              "      <td>0</td>\n",
              "      <td>550</td>\n",
              "    </tr>\n",
              "    <tr>\n",
              "      <th>2</th>\n",
              "      <td>deleted_at</td>\n",
              "      <td>datetime64[ns]</td>\n",
              "      <td>NaT</td>\n",
              "      <td>9495</td>\n",
              "      <td>505</td>\n",
              "    </tr>\n",
              "    <tr>\n",
              "      <th>3</th>\n",
              "      <td>birth_date</td>\n",
              "      <td>datetime64[ns]</td>\n",
              "      <td>1974-07-10 00:00:00</td>\n",
              "      <td>0</td>\n",
              "      <td>7876</td>\n",
              "    </tr>\n",
              "    <tr>\n",
              "      <th>4</th>\n",
              "      <td>status</td>\n",
              "      <td>category</td>\n",
              "      <td>active</td>\n",
              "      <td>0</td>\n",
              "      <td>3</td>\n",
              "    </tr>\n",
              "    <tr>\n",
              "      <th>5</th>\n",
              "      <td>version</td>\n",
              "      <td>object</td>\n",
              "      <td>2.31.7</td>\n",
              "      <td>0</td>\n",
              "      <td>2905</td>\n",
              "    </tr>\n",
              "    <tr>\n",
              "      <th>6</th>\n",
              "      <td>state</td>\n",
              "      <td>category</td>\n",
              "      <td>AM</td>\n",
              "      <td>0</td>\n",
              "      <td>27</td>\n",
              "    </tr>\n",
              "    <tr>\n",
              "      <th>7</th>\n",
              "      <td>last_date_purchase</td>\n",
              "      <td>datetime64[ns]</td>\n",
              "      <td>2021-01-14 11:23:00</td>\n",
              "      <td>0</td>\n",
              "      <td>550</td>\n",
              "    </tr>\n",
              "    <tr>\n",
              "      <th>8</th>\n",
              "      <td>average_ticket</td>\n",
              "      <td>float64</td>\n",
              "      <td>151.142942</td>\n",
              "      <td>0</td>\n",
              "      <td>10000</td>\n",
              "    </tr>\n",
              "    <tr>\n",
              "      <th>9</th>\n",
              "      <td>items_quantity</td>\n",
              "      <td>int64</td>\n",
              "      <td>10</td>\n",
              "      <td>0</td>\n",
              "      <td>19</td>\n",
              "    </tr>\n",
              "    <tr>\n",
              "      <th>10</th>\n",
              "      <td>all_revenue</td>\n",
              "      <td>float64</td>\n",
              "      <td>906.857651</td>\n",
              "      <td>0</td>\n",
              "      <td>9069</td>\n",
              "    </tr>\n",
              "    <tr>\n",
              "      <th>11</th>\n",
              "      <td>all_orders</td>\n",
              "      <td>int64</td>\n",
              "      <td>6</td>\n",
              "      <td>0</td>\n",
              "      <td>12</td>\n",
              "    </tr>\n",
              "    <tr>\n",
              "      <th>12</th>\n",
              "      <td>recency</td>\n",
              "      <td>int64</td>\n",
              "      <td>35</td>\n",
              "      <td>0</td>\n",
              "      <td>463</td>\n",
              "    </tr>\n",
              "    <tr>\n",
              "      <th>13</th>\n",
              "      <td>marketing_source</td>\n",
              "      <td>category</td>\n",
              "      <td>crm</td>\n",
              "      <td>0</td>\n",
              "      <td>6</td>\n",
              "    </tr>\n",
              "  </tbody>\n",
              "</table>\n",
              "</div>\n",
              "      <button class=\"colab-df-convert\" onclick=\"convertToInteractive('df-55d18114-5c15-4959-ad87-79599d339c1f')\"\n",
              "              title=\"Convert this dataframe to an interactive table.\"\n",
              "              style=\"display:none;\">\n",
              "        \n",
              "  <svg xmlns=\"http://www.w3.org/2000/svg\" height=\"24px\"viewBox=\"0 0 24 24\"\n",
              "       width=\"24px\">\n",
              "    <path d=\"M0 0h24v24H0V0z\" fill=\"none\"/>\n",
              "    <path d=\"M18.56 5.44l.94 2.06.94-2.06 2.06-.94-2.06-.94-.94-2.06-.94 2.06-2.06.94zm-11 1L8.5 8.5l.94-2.06 2.06-.94-2.06-.94L8.5 2.5l-.94 2.06-2.06.94zm10 10l.94 2.06.94-2.06 2.06-.94-2.06-.94-.94-2.06-.94 2.06-2.06.94z\"/><path d=\"M17.41 7.96l-1.37-1.37c-.4-.4-.92-.59-1.43-.59-.52 0-1.04.2-1.43.59L10.3 9.45l-7.72 7.72c-.78.78-.78 2.05 0 2.83L4 21.41c.39.39.9.59 1.41.59.51 0 1.02-.2 1.41-.59l7.78-7.78 2.81-2.81c.8-.78.8-2.07 0-2.86zM5.41 20L4 18.59l7.72-7.72 1.47 1.35L5.41 20z\"/>\n",
              "  </svg>\n",
              "      </button>\n",
              "      \n",
              "  <style>\n",
              "    .colab-df-container {\n",
              "      display:flex;\n",
              "      flex-wrap:wrap;\n",
              "      gap: 12px;\n",
              "    }\n",
              "\n",
              "    .colab-df-convert {\n",
              "      background-color: #E8F0FE;\n",
              "      border: none;\n",
              "      border-radius: 50%;\n",
              "      cursor: pointer;\n",
              "      display: none;\n",
              "      fill: #1967D2;\n",
              "      height: 32px;\n",
              "      padding: 0 0 0 0;\n",
              "      width: 32px;\n",
              "    }\n",
              "\n",
              "    .colab-df-convert:hover {\n",
              "      background-color: #E2EBFA;\n",
              "      box-shadow: 0px 1px 2px rgba(60, 64, 67, 0.3), 0px 1px 3px 1px rgba(60, 64, 67, 0.15);\n",
              "      fill: #174EA6;\n",
              "    }\n",
              "\n",
              "    [theme=dark] .colab-df-convert {\n",
              "      background-color: #3B4455;\n",
              "      fill: #D2E3FC;\n",
              "    }\n",
              "\n",
              "    [theme=dark] .colab-df-convert:hover {\n",
              "      background-color: #434B5C;\n",
              "      box-shadow: 0px 1px 3px 1px rgba(0, 0, 0, 0.15);\n",
              "      filter: drop-shadow(0px 1px 2px rgba(0, 0, 0, 0.3));\n",
              "      fill: #FFFFFF;\n",
              "    }\n",
              "  </style>\n",
              "\n",
              "      <script>\n",
              "        const buttonEl =\n",
              "          document.querySelector('#df-55d18114-5c15-4959-ad87-79599d339c1f button.colab-df-convert');\n",
              "        buttonEl.style.display =\n",
              "          google.colab.kernel.accessAllowed ? 'block' : 'none';\n",
              "\n",
              "        async function convertToInteractive(key) {\n",
              "          const element = document.querySelector('#df-55d18114-5c15-4959-ad87-79599d339c1f');\n",
              "          const dataTable =\n",
              "            await google.colab.kernel.invokeFunction('convertToInteractive',\n",
              "                                                     [key], {});\n",
              "          if (!dataTable) return;\n",
              "\n",
              "          const docLinkHtml = 'Like what you see? Visit the ' +\n",
              "            '<a target=\"_blank\" href=https://colab.research.google.com/notebooks/data_table.ipynb>data table notebook</a>'\n",
              "            + ' to learn more about interactive tables.';\n",
              "          element.innerHTML = '';\n",
              "          dataTable['output_type'] = 'display_data';\n",
              "          await google.colab.output.renderOutput(dataTable, element);\n",
              "          const docLink = document.createElement('div');\n",
              "          docLink.innerHTML = docLinkHtml;\n",
              "          element.appendChild(docLink);\n",
              "        }\n",
              "      </script>\n",
              "    </div>\n",
              "  </div>\n",
              "  "
            ]
          },
          "metadata": {},
          "execution_count": 18
        }
      ]
    },
    {
      "cell_type": "code",
      "execution_count": null,
      "metadata": {
        "colab": {
          "base_uri": "https://localhost:8080/"
        },
        "id": "4_S1v-iTnO-t",
        "outputId": "f88d683b-c886-4e16-b805-a3ebf5292378"
      },
      "outputs": [
        {
          "output_type": "stream",
          "name": "stdout",
          "text": [
            "(10000, 14)\n"
          ]
        }
      ],
      "source": [
        "# Verificando a quantidade de colunas e linhas\n",
        "print(petlove.shape)"
      ]
    },
    {
      "cell_type": "code",
      "execution_count": null,
      "metadata": {
        "id": "sL_XB8JJnWww"
      },
      "outputs": [],
      "source": [
        "# Cópia do dataset\n",
        "# Caso seja necessário retornar ao dataset\n",
        "# Facilitar a nota variável intacta\n",
        "# Nova nota variável para facilitar o entendimento dos meus pares (df)\n",
        "df = petlove.copy()"
      ]
    },
    {
      "cell_type": "markdown",
      "metadata": {
        "id": "o9CaDeT2Ceu_"
      },
      "source": [
        "# Pré-processamento dos dados"
      ]
    },
    {
      "cell_type": "markdown",
      "source": [
        "## deleted_at [*tenure*]"
      ],
      "metadata": {
        "id": "DDZ3VTRbFq2l"
      }
    },
    {
      "cell_type": "code",
      "source": [
        "# Tenure = Dias de serviço ativo\n",
        "df['created_at'] = pd.to_datetime(df['created_at']).dt.normalize()\n",
        "df['deleted_at'] = pd.to_datetime(df['deleted_at']).dt.normalize()\n",
        "df['tenure'] = (df['deleted_at'] - df['created_at']).dt.days\n",
        "df[df['tenure'] >= 0].value_counts().sum()"
      ],
      "metadata": {
        "colab": {
          "base_uri": "https://localhost:8080/"
        },
        "id": "D74ZDh1XLRP3",
        "outputId": "1d911dea-49b3-4d36-d0ef-58d3ac602b73"
      },
      "execution_count": null,
      "outputs": [
        {
          "output_type": "execute_result",
          "data": {
            "text/plain": [
              "505"
            ]
          },
          "metadata": {},
          "execution_count": 21
        }
      ]
    },
    {
      "cell_type": "code",
      "source": [
        "df.boxplot(['tenure'], figsize=(15, 6))"
      ],
      "metadata": {
        "colab": {
          "base_uri": "https://localhost:8080/",
          "height": 391
        },
        "id": "TZ-PT_lBvdIw",
        "outputId": "98501418-eb2b-4f02-974b-1cd4be6c9cee"
      },
      "execution_count": null,
      "outputs": [
        {
          "output_type": "execute_result",
          "data": {
            "text/plain": [
              "<matplotlib.axes._subplots.AxesSubplot at 0x7effefecb050>"
            ]
          },
          "metadata": {},
          "execution_count": 22
        },
        {
          "output_type": "display_data",
          "data": {
            "text/plain": [
              "<Figure size 1080x432 with 1 Axes>"
            ],
            "image/png": "[encoded data removed]"
          },
          "metadata": {
            "needs_background": "light"
          }
        }
      ]
    },
    {
      "cell_type": "code",
      "source": [
        "valor_tenure = df['tenure']\n",
        "Q1 = valor_tenure.quantile(.25)\n",
        "Q3 = valor_tenure.quantile(.75)\n",
        "IIQ = Q3 - Q1\n",
        "limite_inferior = Q1 - 1.5 * IIQ\n",
        "limite_superior = Q3 + 1.5 * IIQ\n",
        "\n",
        "selecao = (valor_tenure >= limite_inferior) & (valor_tenure <= limite_superior)\n",
        "dados_tenure = df[selecao]\n",
        "\n",
        "dados_tenure.boxplot(['tenure'])"
      ],
      "metadata": {
        "colab": {
          "base_uri": "https://localhost:8080/",
          "height": 282
        },
        "id": "B8NuxBzOLEB4",
        "outputId": "c55e7f31-650d-41a3-d7bb-4b84356c1b0d"
      },
      "execution_count": null,
      "outputs": [
        {
          "output_type": "execute_result",
          "data": {
            "text/plain": [
              "<matplotlib.axes._subplots.AxesSubplot at 0x7effeeb3bc50>"
            ]
          },
          "metadata": {},
          "execution_count": 23
        },
        {
          "output_type": "display_data",
          "data": {
            "text/plain": [
              "<Figure size 432x288 with 1 Axes>"
            ],
            "image/png": "[encoded data removed]"
          },
          "metadata": {
            "needs_background": "light"
          }
        }
      ]
    },
    {
      "cell_type": "markdown",
      "source": [
        "## status [*exit, target*]"
      ],
      "metadata": {
        "id": "KRvwA1dOUamF"
      }
    },
    {
      "cell_type": "code",
      "source": [
        "df.groupby('status')['status'].count()"
      ],
      "metadata": {
        "id": "DTA26iXam4Ie",
        "colab": {
          "base_uri": "https://localhost:8080/"
        },
        "outputId": "ebefee63-7475-4988-e2f6-95698ee61c30"
      },
      "execution_count": null,
      "outputs": [
        {
          "output_type": "execute_result",
          "data": {
            "text/plain": [
              "status\n",
              "active      8524\n",
              "canceled     505\n",
              "paused       971\n",
              "Name: status, dtype: int64"
            ]
          },
          "metadata": {},
          "execution_count": 24
        }
      ]
    },
    {
      "cell_type": "code",
      "source": [
        "# Exit = Sim, Não\n",
        "df.loc[df['status'] == 'active', 'exit'] = 'Não' \n",
        "df.loc[df['status'] == 'canceled', 'exit'] = 'Sim'\n",
        "df.loc[df['status'] == 'paused', 'exit'] = 'Não'\n",
        "df.exit.value_counts()"
      ],
      "metadata": {
        "id": "twspvjKncylD",
        "colab": {
          "base_uri": "https://localhost:8080/"
        },
        "outputId": "9156e072-a1c2-4284-ad70-13f9bf2db90a"
      },
      "execution_count": null,
      "outputs": [
        {
          "output_type": "execute_result",
          "data": {
            "text/plain": [
              "Não    9495\n",
              "Sim     505\n",
              "Name: exit, dtype: int64"
            ]
          },
          "metadata": {},
          "execution_count": 25
        }
      ]
    },
    {
      "cell_type": "code",
      "source": [
        "# Paused = Sim, Não\n",
        "df.loc[df['status'] == 'active', 'target'] = 'Não' \n",
        "df.loc[df['status'] == 'canceled', 'target'] = 'Não'\n",
        "df.loc[df['status'] == 'paused', 'target'] = 'Sim'\n",
        "df.target.value_counts()"
      ],
      "metadata": {
        "id": "v57WaeHKneWd",
        "colab": {
          "base_uri": "https://localhost:8080/"
        },
        "outputId": "234a029d-4b1d-4a5e-ea2f-ec1aa661b7cb"
      },
      "execution_count": null,
      "outputs": [
        {
          "output_type": "execute_result",
          "data": {
            "text/plain": [
              "Não    9029\n",
              "Sim     971\n",
              "Name: target, dtype: int64"
            ]
          },
          "metadata": {},
          "execution_count": 26
        }
      ]
    },
    {
      "cell_type": "code",
      "source": [
        "active = df[df.status == 'active'].shape[0]\n",
        "paused = df[df.status == 'paused'].shape[0]\n",
        "canceled = df[df.status == 'canceled'].shape[0]\n",
        "print(active / (active + paused + canceled) * 100, '% dos clientes possuem assinatura ativa.')\n",
        "print(paused / (active + paused + canceled) * 100, '% dos clientes possuem assinatura pausada.')\n",
        "print(canceled / (active + paused + canceled) * 100, '% dos clientes possuem assinatura cancelada.')"
      ],
      "metadata": {
        "id": "mdgFs6QzlmiS",
        "colab": {
          "base_uri": "https://localhost:8080/"
        },
        "outputId": "ed30f2da-8130-4b1b-ec6f-be0b568f34a4"
      },
      "execution_count": null,
      "outputs": [
        {
          "output_type": "stream",
          "name": "stdout",
          "text": [
            "85.24000000000001 % dos clientes possuem assinatura ativa.\n",
            "9.71 % dos clientes possuem assinatura pausada.\n",
            "5.050000000000001 % dos clientes possuem assinatura cancelada.\n"
          ]
        }
      ]
    },
    {
      "cell_type": "code",
      "source": [
        "df = df.drop(['deleted_at'], axis=1)\n",
        "df.head()"
      ],
      "metadata": {
        "id": "uCZfCuo0fURd",
        "colab": {
          "base_uri": "https://localhost:8080/",
          "height": 357
        },
        "outputId": "eb16794f-9b72-47c3-8d39-975bd3a83d49"
      },
      "execution_count": null,
      "outputs": [
        {
          "output_type": "execute_result",
          "data": {
            "text/plain": [
              "  created_at          updated_at birth_date  status  version state  \\\n",
              "0 2017-08-15 2021-01-14 11:23:00 1974-07-10  active   2.31.7    AM   \n",
              "1 2019-12-31 2021-01-08 11:23:00 2040-07-06  paused  3.30.12    RR   \n",
              "2 2019-03-07 2021-01-07 11:23:00 2063-03-18  active   3.28.9    RR   \n",
              "3 2018-07-21 2021-01-10 11:23:00 1980-11-21  active   3.34.3    PE   \n",
              "4 2018-06-08 2021-01-18 11:23:00 2059-07-07  active   3.19.8    RJ   \n",
              "\n",
              "   last_date_purchase  average_ticket  items_quantity  all_revenue  \\\n",
              "0 2021-01-14 11:23:00      151.142942              10   906.857651   \n",
              "1 2021-01-08 11:23:00      236.991790               4   236.991790   \n",
              "2 2021-01-07 11:23:00      211.955597              13  2331.511572   \n",
              "3 2021-01-10 11:23:00      204.113227               8  1224.679359   \n",
              "4 2021-01-18 11:23:00      252.940997               9  2023.527980   \n",
              "\n",
              "   all_orders  recency marketing_source  tenure exit target  \n",
              "0           6       35              crm     NaN  Não    Não  \n",
              "1           1       41   organic_search     NaN  Não    Sim  \n",
              "2          11       42   organic_search     NaN  Não    Não  \n",
              "3           6       39   organic_search     NaN  Não    Não  \n",
              "4           8       31              crm     NaN  Não    Não  "
            ],
            "text/html": [
              "\n",
              "  <div id=\"df-608ab047-a2aa-46f9-8ee5-d2eb95c95952\">\n",
              "    <div class=\"colab-df-container\">\n",
              "      <div>\n",
              "<style scoped>\n",
              "    .dataframe tbody tr th:only-of-type {\n",
              "        vertical-align: middle;\n",
              "    }\n",
              "\n",
              "    .dataframe tbody tr th {\n",
              "        vertical-align: top;\n",
              "    }\n",
              "\n",
              "    .dataframe thead th {\n",
              "        text-align: right;\n",
              "    }\n",
              "</style>\n",
              "<table border=\"1\" class=\"dataframe\">\n",
              "  <thead>\n",
              "    <tr style=\"text-align: right;\">\n",
              "      <th></th>\n",
              "      <th>created_at</th>\n",
              "      <th>updated_at</th>\n",
              "      <th>birth_date</th>\n",
              "      <th>status</th>\n",
              "      <th>version</th>\n",
              "      <th>state</th>\n",
              "      <th>last_date_purchase</th>\n",
              "      <th>average_ticket</th>\n",
              "      <th>items_quantity</th>\n",
              "      <th>all_revenue</th>\n",
              "      <th>all_orders</th>\n",
              "      <th>recency</th>\n",
              "      <th>marketing_source</th>\n",
              "      <th>tenure</th>\n",
              "      <th>exit</th>\n",
              "      <th>target</th>\n",
              "    </tr>\n",
              "  </thead>\n",
              "  <tbody>\n",
              "    <tr>\n",
              "      <th>0</th>\n",
              "      <td>2017-08-15</td>\n",
              "      <td>2021-01-14 11:23:00</td>\n",
              "      <td>1974-07-10</td>\n",
              "      <td>active</td>\n",
              "      <td>2.31.7</td>\n",
              "      <td>AM</td>\n",
              "      <td>2021-01-14 11:23:00</td>\n",
              "      <td>151.142942</td>\n",
              "      <td>10</td>\n",
              "      <td>906.857651</td>\n",
              "      <td>6</td>\n",
              "      <td>35</td>\n",
              "      <td>crm</td>\n",
              "      <td>NaN</td>\n",
              "      <td>Não</td>\n",
              "      <td>Não</td>\n",
              "    </tr>\n",
              "    <tr>\n",
              "      <th>1</th>\n",
              "      <td>2019-12-31</td>\n",
              "      <td>2021-01-08 11:23:00</td>\n",
              "      <td>2040-07-06</td>\n",
              "      <td>paused</td>\n",
              "      <td>3.30.12</td>\n",
              "      <td>RR</td>\n",
              "      <td>2021-01-08 11:23:00</td>\n",
              "      <td>236.991790</td>\n",
              "      <td>4</td>\n",
              "      <td>236.991790</td>\n",
              "      <td>1</td>\n",
              "      <td>41</td>\n",
              "      <td>organic_search</td>\n",
              "      <td>NaN</td>\n",
              "      <td>Não</td>\n",
              "      <td>Sim</td>\n",
              "    </tr>\n",
              "    <tr>\n",
              "      <th>2</th>\n",
              "      <td>2019-03-07</td>\n",
              "      <td>2021-01-07 11:23:00</td>\n",
              "      <td>2063-03-18</td>\n",
              "      <td>active</td>\n",
              "      <td>3.28.9</td>\n",
              "      <td>RR</td>\n",
              "      <td>2021-01-07 11:23:00</td>\n",
              "      <td>211.955597</td>\n",
              "      <td>13</td>\n",
              "      <td>2331.511572</td>\n",
              "      <td>11</td>\n",
              "      <td>42</td>\n",
              "      <td>organic_search</td>\n",
              "      <td>NaN</td>\n",
              "      <td>Não</td>\n",
              "      <td>Não</td>\n",
              "    </tr>\n",
              "    <tr>\n",
              "      <th>3</th>\n",
              "      <td>2018-07-21</td>\n",
              "      <td>2021-01-10 11:23:00</td>\n",
              "      <td>1980-11-21</td>\n",
              "      <td>active</td>\n",
              "      <td>3.34.3</td>\n",
              "      <td>PE</td>\n",
              "      <td>2021-01-10 11:23:00</td>\n",
              "      <td>204.113227</td>\n",
              "      <td>8</td>\n",
              "      <td>1224.679359</td>\n",
              "      <td>6</td>\n",
              "      <td>39</td>\n",
              "      <td>organic_search</td>\n",
              "      <td>NaN</td>\n",
              "      <td>Não</td>\n",
              "      <td>Não</td>\n",
              "    </tr>\n",
              "    <tr>\n",
              "      <th>4</th>\n",
              "      <td>2018-06-08</td>\n",
              "      <td>2021-01-18 11:23:00</td>\n",
              "      <td>2059-07-07</td>\n",
              "      <td>active</td>\n",
              "      <td>3.19.8</td>\n",
              "      <td>RJ</td>\n",
              "      <td>2021-01-18 11:23:00</td>\n",
              "      <td>252.940997</td>\n",
              "      <td>9</td>\n",
              "      <td>2023.527980</td>\n",
              "      <td>8</td>\n",
              "      <td>31</td>\n",
              "      <td>crm</td>\n",
              "      <td>NaN</td>\n",
              "      <td>Não</td>\n",
              "      <td>Não</td>\n",
              "    </tr>\n",
              "  </tbody>\n",
              "</table>\n",
              "</div>\n",
              "      <button class=\"colab-df-convert\" onclick=\"convertToInteractive('df-608ab047-a2aa-46f9-8ee5-d2eb95c95952')\"\n",
              "              title=\"Convert this dataframe to an interactive table.\"\n",
              "              style=\"display:none;\">\n",
              "        \n",
              "  <svg xmlns=\"http://www.w3.org/2000/svg\" height=\"24px\"viewBox=\"0 0 24 24\"\n",
              "       width=\"24px\">\n",
              "    <path d=\"M0 0h24v24H0V0z\" fill=\"none\"/>\n",
              "    <path d=\"M18.56 5.44l.94 2.06.94-2.06 2.06-.94-2.06-.94-.94-2.06-.94 2.06-2.06.94zm-11 1L8.5 8.5l.94-2.06 2.06-.94-2.06-.94L8.5 2.5l-.94 2.06-2.06.94zm10 10l.94 2.06.94-2.06 2.06-.94-2.06-.94-.94-2.06-.94 2.06-2.06.94z\"/><path d=\"M17.41 7.96l-1.37-1.37c-.4-.4-.92-.59-1.43-.59-.52 0-1.04.2-1.43.59L10.3 9.45l-7.72 7.72c-.78.78-.78 2.05 0 2.83L4 21.41c.39.39.9.59 1.41.59.51 0 1.02-.2 1.41-.59l7.78-7.78 2.81-2.81c.8-.78.8-2.07 0-2.86zM5.41 20L4 18.59l7.72-7.72 1.47 1.35L5.41 20z\"/>\n",
              "  </svg>\n",
              "      </button>\n",
              "      \n",
              "  <style>\n",
              "    .colab-df-container {\n",
              "      display:flex;\n",
              "      flex-wrap:wrap;\n",
              "      gap: 12px;\n",
              "    }\n",
              "\n",
              "    .colab-df-convert {\n",
              "      background-color: #E8F0FE;\n",
              "      border: none;\n",
              "      border-radius: 50%;\n",
              "      cursor: pointer;\n",
              "      display: none;\n",
              "      fill: #1967D2;\n",
              "      height: 32px;\n",
              "      padding: 0 0 0 0;\n",
              "      width: 32px;\n",
              "    }\n",
              "\n",
              "    .colab-df-convert:hover {\n",
              "      background-color: #E2EBFA;\n",
              "      box-shadow: 0px 1px 2px rgba(60, 64, 67, 0.3), 0px 1px 3px 1px rgba(60, 64, 67, 0.15);\n",
              "      fill: #174EA6;\n",
              "    }\n",
              "\n",
              "    [theme=dark] .colab-df-convert {\n",
              "      background-color: #3B4455;\n",
              "      fill: #D2E3FC;\n",
              "    }\n",
              "\n",
              "    [theme=dark] .colab-df-convert:hover {\n",
              "      background-color: #434B5C;\n",
              "      box-shadow: 0px 1px 3px 1px rgba(0, 0, 0, 0.15);\n",
              "      filter: drop-shadow(0px 1px 2px rgba(0, 0, 0, 0.3));\n",
              "      fill: #FFFFFF;\n",
              "    }\n",
              "  </style>\n",
              "\n",
              "      <script>\n",
              "        const buttonEl =\n",
              "          document.querySelector('#df-608ab047-a2aa-46f9-8ee5-d2eb95c95952 button.colab-df-convert');\n",
              "        buttonEl.style.display =\n",
              "          google.colab.kernel.accessAllowed ? 'block' : 'none';\n",
              "\n",
              "        async function convertToInteractive(key) {\n",
              "          const element = document.querySelector('#df-608ab047-a2aa-46f9-8ee5-d2eb95c95952');\n",
              "          const dataTable =\n",
              "            await google.colab.kernel.invokeFunction('convertToInteractive',\n",
              "                                                     [key], {});\n",
              "          if (!dataTable) return;\n",
              "\n",
              "          const docLinkHtml = 'Like what you see? Visit the ' +\n",
              "            '<a target=\"_blank\" href=https://colab.research.google.com/notebooks/data_table.ipynb>data table notebook</a>'\n",
              "            + ' to learn more about interactive tables.';\n",
              "          element.innerHTML = '';\n",
              "          dataTable['output_type'] = 'display_data';\n",
              "          await google.colab.output.renderOutput(dataTable, element);\n",
              "          const docLink = document.createElement('div');\n",
              "          docLink.innerHTML = docLinkHtml;\n",
              "          element.appendChild(docLink);\n",
              "        }\n",
              "      </script>\n",
              "    </div>\n",
              "  </div>\n",
              "  "
            ]
          },
          "metadata": {},
          "execution_count": 28
        }
      ]
    },
    {
      "cell_type": "markdown",
      "source": [
        "## birth_date [*age, senior_citizen, age_group*]"
      ],
      "metadata": {
        "id": "V5JDwp2N5CAJ"
      }
    },
    {
      "cell_type": "code",
      "source": [
        "# idade dos clientes\n",
        "now = pd.Timestamp('now')\n",
        "df['birth_date'] = pd.to_datetime(df['birth_date'], format='%Y/%m/%d')\n",
        "df['birth_date'] = df['birth_date'].where(df['birth_date'] < now, df['birth_date'] - np.timedelta64(100, 'Y'))\n",
        "df['age'] = (now - df['birth_date']).astype('<m8[Y]')\n",
        "df['age'] = df.age.astype(int)\n",
        "df['age'].describe()"
      ],
      "metadata": {
        "id": "X7NyGZ1S5rXz",
        "colab": {
          "base_uri": "https://localhost:8080/"
        },
        "outputId": "b22bf545-fc67-4d0a-d3e0-393baf1a32cf"
      },
      "execution_count": null,
      "outputs": [
        {
          "output_type": "execute_result",
          "data": {
            "text/plain": [
              "count    10000.000000\n",
              "mean        53.515800\n",
              "std         16.046423\n",
              "min         26.000000\n",
              "25%         40.000000\n",
              "50%         54.000000\n",
              "75%         67.000000\n",
              "max         82.000000\n",
              "Name: age, dtype: float64"
            ]
          },
          "metadata": {},
          "execution_count": 29
        }
      ]
    },
    {
      "cell_type": "code",
      "source": [
        "df['age'] = pd.to_numeric(df['age'].astype(int))"
      ],
      "metadata": {
        "id": "Mg6xq9dD0xWz"
      },
      "execution_count": null,
      "outputs": []
    },
    {
      "cell_type": "code",
      "source": [
        "print(df.age.min())\n",
        "print(df.age.max())"
      ],
      "metadata": {
        "colab": {
          "base_uri": "https://localhost:8080/"
        },
        "id": "IJVUNuouy6wF",
        "outputId": "deb3c987-30f1-45fc-da18-ba8f8ad98b72"
      },
      "execution_count": null,
      "outputs": [
        {
          "output_type": "stream",
          "name": "stdout",
          "text": [
            "26\n",
            "82\n"
          ]
        }
      ]
    },
    {
      "cell_type": "code",
      "source": [
        "# cliente é idoso?\n",
        "df['senior_citizen'] = pd.cut(\n",
        "    df['age'],\n",
        "    bins = [26,65,82],\n",
        "    ordered = True,\n",
        "    labels = ['Não','Sim'],\n",
        "    right=True\n",
        "    )\n",
        "df.senior_citizen.value_counts()"
      ],
      "metadata": {
        "id": "wRmIgizO7vCy",
        "colab": {
          "base_uri": "https://localhost:8080/"
        },
        "outputId": "9a78f5b5-0935-4bad-8c40-edfc586cc169"
      },
      "execution_count": null,
      "outputs": [
        {
          "output_type": "execute_result",
          "data": {
            "text/plain": [
              "Não    7022\n",
              "Sim    2811\n",
              "Name: senior_citizen, dtype: int64"
            ]
          },
          "metadata": {},
          "execution_count": 33
        }
      ]
    },
    {
      "cell_type": "code",
      "source": [
        "# categorizando clientes por faixa de idade\n",
        "# ... 26 a 34 | 35 a 44 | 45 a 54 | 55 a 64 | 65 ou mais\n",
        "# Idade mínima: 26 anos - Idade máxima: 82 anos\n",
        "# Fonte Google Ads: https://support.google.com/searchads/answer/6309527?hl=pt-BR\n",
        "\n",
        "# faixa etaria\n",
        "df['age_group'] = pd.cut(\n",
        "    df['age'],\n",
        "    bins = [0,26,35,45,55,65,100],\n",
        "    ordered = True,\n",
        "    labels = ['Até 26 anos','27 a 34 anos', '35 a 44 anos', '45 a 54 anos', '55 a 64 anos', '65 anos ou mais'],\n",
        "    right=True\n",
        ")\n",
        "df.age_group.value_counts()"
      ],
      "metadata": {
        "id": "YQR3ZvG-8LfM",
        "colab": {
          "base_uri": "https://localhost:8080/"
        },
        "outputId": "4ce78a94-53a2-426e-b263-da2f737070be"
      },
      "execution_count": null,
      "outputs": [
        {
          "output_type": "execute_result",
          "data": {
            "text/plain": [
              "65 anos ou mais    2811\n",
              "35 a 44 anos       1848\n",
              "45 a 54 anos       1823\n",
              "55 a 64 anos       1799\n",
              "27 a 34 anos       1552\n",
              "Até 26 anos         167\n",
              "Name: age_group, dtype: int64"
            ]
          },
          "metadata": {},
          "execution_count": 35
        }
      ]
    },
    {
      "cell_type": "code",
      "source": [
        "df = df.drop(['birth_date'], axis=1)\n",
        "df.head()"
      ],
      "metadata": {
        "id": "Uup5eTFwD0S5",
        "colab": {
          "base_uri": "https://localhost:8080/",
          "height": 357
        },
        "outputId": "ec028800-1f4b-4cf0-c296-c8409481f4ed"
      },
      "execution_count": null,
      "outputs": [
        {
          "output_type": "execute_result",
          "data": {
            "text/plain": [
              "  created_at          updated_at  status  version state  last_date_purchase  \\\n",
              "0 2017-08-15 2021-01-14 11:23:00  active   2.31.7    AM 2021-01-14 11:23:00   \n",
              "1 2019-12-31 2021-01-08 11:23:00  paused  3.30.12    RR 2021-01-08 11:23:00   \n",
              "2 2019-03-07 2021-01-07 11:23:00  active   3.28.9    RR 2021-01-07 11:23:00   \n",
              "3 2018-07-21 2021-01-10 11:23:00  active   3.34.3    PE 2021-01-10 11:23:00   \n",
              "4 2018-06-08 2021-01-18 11:23:00  active   3.19.8    RJ 2021-01-18 11:23:00   \n",
              "\n",
              "   average_ticket  items_quantity  all_revenue  all_orders  recency  \\\n",
              "0      151.142942              10   906.857651           6       35   \n",
              "1      236.991790               4   236.991790           1       41   \n",
              "2      211.955597              13  2331.511572          11       42   \n",
              "3      204.113227               8  1224.679359           6       39   \n",
              "4      252.940997               9  2023.527980           8       31   \n",
              "\n",
              "  marketing_source  tenure exit target  age senior_citizen        age_group  \n",
              "0              crm     NaN  Não    Não   47            Não     45 a 54 anos  \n",
              "1   organic_search     NaN  Não    Sim   81            Sim  65 anos ou mais  \n",
              "2   organic_search     NaN  Não    Não   59            Não     55 a 64 anos  \n",
              "3   organic_search     NaN  Não    Não   41            Não     35 a 44 anos  \n",
              "4              crm     NaN  Não    Não   62            Não     55 a 64 anos  "
            ],
            "text/html": [
              "\n",
              "  <div id=\"df-2cd3dfa7-704d-4070-afd7-2aab9901aa66\">\n",
              "    <div class=\"colab-df-container\">\n",
              "      <div>\n",
              "<style scoped>\n",
              "    .dataframe tbody tr th:only-of-type {\n",
              "        vertical-align: middle;\n",
              "    }\n",
              "\n",
              "    .dataframe tbody tr th {\n",
              "        vertical-align: top;\n",
              "    }\n",
              "\n",
              "    .dataframe thead th {\n",
              "        text-align: right;\n",
              "    }\n",
              "</style>\n",
              "<table border=\"1\" class=\"dataframe\">\n",
              "  <thead>\n",
              "    <tr style=\"text-align: right;\">\n",
              "      <th></th>\n",
              "      <th>created_at</th>\n",
              "      <th>updated_at</th>\n",
              "      <th>status</th>\n",
              "      <th>version</th>\n",
              "      <th>state</th>\n",
              "      <th>last_date_purchase</th>\n",
              "      <th>average_ticket</th>\n",
              "      <th>items_quantity</th>\n",
              "      <th>all_revenue</th>\n",
              "      <th>all_orders</th>\n",
              "      <th>recency</th>\n",
              "      <th>marketing_source</th>\n",
              "      <th>tenure</th>\n",
              "      <th>exit</th>\n",
              "      <th>target</th>\n",
              "      <th>age</th>\n",
              "      <th>senior_citizen</th>\n",
              "      <th>age_group</th>\n",
              "    </tr>\n",
              "  </thead>\n",
              "  <tbody>\n",
              "    <tr>\n",
              "      <th>0</th>\n",
              "      <td>2017-08-15</td>\n",
              "      <td>2021-01-14 11:23:00</td>\n",
              "      <td>active</td>\n",
              "      <td>2.31.7</td>\n",
              "      <td>AM</td>\n",
              "      <td>2021-01-14 11:23:00</td>\n",
              "      <td>151.142942</td>\n",
              "      <td>10</td>\n",
              "      <td>906.857651</td>\n",
              "      <td>6</td>\n",
              "      <td>35</td>\n",
              "      <td>crm</td>\n",
              "      <td>NaN</td>\n",
              "      <td>Não</td>\n",
              "      <td>Não</td>\n",
              "      <td>47</td>\n",
              "      <td>Não</td>\n",
              "      <td>45 a 54 anos</td>\n",
              "    </tr>\n",
              "    <tr>\n",
              "      <th>1</th>\n",
              "      <td>2019-12-31</td>\n",
              "      <td>2021-01-08 11:23:00</td>\n",
              "      <td>paused</td>\n",
              "      <td>3.30.12</td>\n",
              "      <td>RR</td>\n",
              "      <td>2021-01-08 11:23:00</td>\n",
              "      <td>236.991790</td>\n",
              "      <td>4</td>\n",
              "      <td>236.991790</td>\n",
              "      <td>1</td>\n",
              "      <td>41</td>\n",
              "      <td>organic_search</td>\n",
              "      <td>NaN</td>\n",
              "      <td>Não</td>\n",
              "      <td>Sim</td>\n",
              "      <td>81</td>\n",
              "      <td>Sim</td>\n",
              "      <td>65 anos ou mais</td>\n",
              "    </tr>\n",
              "    <tr>\n",
              "      <th>2</th>\n",
              "      <td>2019-03-07</td>\n",
              "      <td>2021-01-07 11:23:00</td>\n",
              "      <td>active</td>\n",
              "      <td>3.28.9</td>\n",
              "      <td>RR</td>\n",
              "      <td>2021-01-07 11:23:00</td>\n",
              "      <td>211.955597</td>\n",
              "      <td>13</td>\n",
              "      <td>2331.511572</td>\n",
              "      <td>11</td>\n",
              "      <td>42</td>\n",
              "      <td>organic_search</td>\n",
              "      <td>NaN</td>\n",
              "      <td>Não</td>\n",
              "      <td>Não</td>\n",
              "      <td>59</td>\n",
              "      <td>Não</td>\n",
              "      <td>55 a 64 anos</td>\n",
              "    </tr>\n",
              "    <tr>\n",
              "      <th>3</th>\n",
              "      <td>2018-07-21</td>\n",
              "      <td>2021-01-10 11:23:00</td>\n",
              "      <td>active</td>\n",
              "      <td>3.34.3</td>\n",
              "      <td>PE</td>\n",
              "      <td>2021-01-10 11:23:00</td>\n",
              "      <td>204.113227</td>\n",
              "      <td>8</td>\n",
              "      <td>1224.679359</td>\n",
              "      <td>6</td>\n",
              "      <td>39</td>\n",
              "      <td>organic_search</td>\n",
              "      <td>NaN</td>\n",
              "      <td>Não</td>\n",
              "      <td>Não</td>\n",
              "      <td>41</td>\n",
              "      <td>Não</td>\n",
              "      <td>35 a 44 anos</td>\n",
              "    </tr>\n",
              "    <tr>\n",
              "      <th>4</th>\n",
              "      <td>2018-06-08</td>\n",
              "      <td>2021-01-18 11:23:00</td>\n",
              "      <td>active</td>\n",
              "      <td>3.19.8</td>\n",
              "      <td>RJ</td>\n",
              "      <td>2021-01-18 11:23:00</td>\n",
              "      <td>252.940997</td>\n",
              "      <td>9</td>\n",
              "      <td>2023.527980</td>\n",
              "      <td>8</td>\n",
              "      <td>31</td>\n",
              "      <td>crm</td>\n",
              "      <td>NaN</td>\n",
              "      <td>Não</td>\n",
              "      <td>Não</td>\n",
              "      <td>62</td>\n",
              "      <td>Não</td>\n",
              "      <td>55 a 64 anos</td>\n",
              "    </tr>\n",
              "  </tbody>\n",
              "</table>\n",
              "</div>\n",
              "      <button class=\"colab-df-convert\" onclick=\"convertToInteractive('df-2cd3dfa7-704d-4070-afd7-2aab9901aa66')\"\n",
              "              title=\"Convert this dataframe to an interactive table.\"\n",
              "              style=\"display:none;\">\n",
              "        \n",
              "  <svg xmlns=\"http://www.w3.org/2000/svg\" height=\"24px\"viewBox=\"0 0 24 24\"\n",
              "       width=\"24px\">\n",
              "    <path d=\"M0 0h24v24H0V0z\" fill=\"none\"/>\n",
              "    <path d=\"M18.56 5.44l.94 2.06.94-2.06 2.06-.94-2.06-.94-.94-2.06-.94 2.06-2.06.94zm-11 1L8.5 8.5l.94-2.06 2.06-.94-2.06-.94L8.5 2.5l-.94 2.06-2.06.94zm10 10l.94 2.06.94-2.06 2.06-.94-2.06-.94-.94-2.06-.94 2.06-2.06.94z\"/><path d=\"M17.41 7.96l-1.37-1.37c-.4-.4-.92-.59-1.43-.59-.52 0-1.04.2-1.43.59L10.3 9.45l-7.72 7.72c-.78.78-.78 2.05 0 2.83L4 21.41c.39.39.9.59 1.41.59.51 0 1.02-.2 1.41-.59l7.78-7.78 2.81-2.81c.8-.78.8-2.07 0-2.86zM5.41 20L4 18.59l7.72-7.72 1.47 1.35L5.41 20z\"/>\n",
              "  </svg>\n",
              "      </button>\n",
              "      \n",
              "  <style>\n",
              "    .colab-df-container {\n",
              "      display:flex;\n",
              "      flex-wrap:wrap;\n",
              "      gap: 12px;\n",
              "    }\n",
              "\n",
              "    .colab-df-convert {\n",
              "      background-color: #E8F0FE;\n",
              "      border: none;\n",
              "      border-radius: 50%;\n",
              "      cursor: pointer;\n",
              "      display: none;\n",
              "      fill: #1967D2;\n",
              "      height: 32px;\n",
              "      padding: 0 0 0 0;\n",
              "      width: 32px;\n",
              "    }\n",
              "\n",
              "    .colab-df-convert:hover {\n",
              "      background-color: #E2EBFA;\n",
              "      box-shadow: 0px 1px 2px rgba(60, 64, 67, 0.3), 0px 1px 3px 1px rgba(60, 64, 67, 0.15);\n",
              "      fill: #174EA6;\n",
              "    }\n",
              "\n",
              "    [theme=dark] .colab-df-convert {\n",
              "      background-color: #3B4455;\n",
              "      fill: #D2E3FC;\n",
              "    }\n",
              "\n",
              "    [theme=dark] .colab-df-convert:hover {\n",
              "      background-color: #434B5C;\n",
              "      box-shadow: 0px 1px 3px 1px rgba(0, 0, 0, 0.15);\n",
              "      filter: drop-shadow(0px 1px 2px rgba(0, 0, 0, 0.3));\n",
              "      fill: #FFFFFF;\n",
              "    }\n",
              "  </style>\n",
              "\n",
              "      <script>\n",
              "        const buttonEl =\n",
              "          document.querySelector('#df-2cd3dfa7-704d-4070-afd7-2aab9901aa66 button.colab-df-convert');\n",
              "        buttonEl.style.display =\n",
              "          google.colab.kernel.accessAllowed ? 'block' : 'none';\n",
              "\n",
              "        async function convertToInteractive(key) {\n",
              "          const element = document.querySelector('#df-2cd3dfa7-704d-4070-afd7-2aab9901aa66');\n",
              "          const dataTable =\n",
              "            await google.colab.kernel.invokeFunction('convertToInteractive',\n",
              "                                                     [key], {});\n",
              "          if (!dataTable) return;\n",
              "\n",
              "          const docLinkHtml = 'Like what you see? Visit the ' +\n",
              "            '<a target=\"_blank\" href=https://colab.research.google.com/notebooks/data_table.ipynb>data table notebook</a>'\n",
              "            + ' to learn more about interactive tables.';\n",
              "          element.innerHTML = '';\n",
              "          dataTable['output_type'] = 'display_data';\n",
              "          await google.colab.output.renderOutput(dataTable, element);\n",
              "          const docLink = document.createElement('div');\n",
              "          docLink.innerHTML = docLinkHtml;\n",
              "          element.appendChild(docLink);\n",
              "        }\n",
              "      </script>\n",
              "    </div>\n",
              "  </div>\n",
              "  "
            ]
          },
          "metadata": {},
          "execution_count": 37
        }
      ]
    },
    {
      "cell_type": "markdown",
      "source": [
        "## version [*version_group*]"
      ],
      "metadata": {
        "id": "ihcKXPkdaZ_x"
      }
    },
    {
      "cell_type": "markdown",
      "source": [
        "## series monthlyCharges"
      ],
      "metadata": {
        "id": "YZ4E9jnkMQg0"
      }
    },
    {
      "cell_type": "markdown",
      "source": [
        "## Aa"
      ],
      "metadata": {
        "id": "ICW7iwCFGNHJ"
      }
    },
    {
      "cell_type": "code",
      "source": [
        "# Conversão de dtypes\n",
        "df.info()"
      ],
      "metadata": {
        "id": "dvZCYmHhRTIK"
      },
      "execution_count": null,
      "outputs": []
    },
    {
      "cell_type": "code",
      "source": [
        "# Dicionário de dados da Tabela\n",
        "dicionario = {\n",
        "    'id': ['Identificação do cliente'],\n",
        "    'created_at': ['Data de criação da assinatura'],\n",
        "    'updated_at': ['Data da última modificação da assinatura'],\n",
        "    'deleted_at': ['Data de cancelamento da assinatura'],\n",
        "    'name_hash': ['Nome do usuário (criptografado)'],\n",
        "    'email_hash': ['Email (criptografado)'],\n",
        "    'address_hash': ['Endereço (criptografado)'],\n",
        "    'birth_date': ['Data de aniversário do cliente'],\n",
        "    'status': ['Status da assinatura'],\n",
        "    'version': ['Versão da assinatura'],\n",
        "    'city': ['Cidade do cliente'],\n",
        "    'state': ['Estado do cliente'],\n",
        "    'neighborhood': ['Bairro do cliente'],\n",
        "    'last_date_purchase': ['Data do último pedido que ocorreu pela assinatura'],\n",
        "    'average_ticket': ['Média de gasto por pedido'],\n",
        "    'items_quantity': ['Média de itens na assinatura'],\n",
        "    'all_revenue': ['Total de receita realizado pelo cliente'],\n",
        "    'all_orders': ['Total de pedidos realizado pelo cliente'],\n",
        "    'recency': ['Tempo desde a última compra do cliente'],\n",
        "    'marketing_source': ['Canal de marketing que converteu a assinatura']\n",
        "}"
      ],
      "metadata": {
        "id": "uecWYjA2Rm0Q"
      },
      "execution_count": null,
      "outputs": []
    },
    {
      "cell_type": "code",
      "source": [
        "# Dicionário dos nomes dos dias\n",
        "dias_ptbr = {\n",
        "    'Sunday':'Domingo',\n",
        "    'Monday':'Segunda-feira',\n",
        "    'Tuesday':'Terça-feira',\n",
        "    'Wednesday':'Quarta-feira',\n",
        "    'Thursday':'Quinta-feira',\n",
        "    'Friday':'Sexta-feira',\n",
        "    'Saturday':'Sábado'\n",
        "    }"
      ],
      "metadata": {
        "id": "RIfkrq-qR_77"
      },
      "execution_count": null,
      "outputs": []
    },
    {
      "cell_type": "code",
      "source": [
        "# Dicionário dos nomes dos meses\n",
        "meses_ptbr = {\n",
        "    'January':'Janeiro',\n",
        "    'February':'Fevereiro',\n",
        "    'March':'Março',\n",
        "    'April':'Abril',\n",
        "    'May':'Maio',\n",
        "    'June':'Junho',\n",
        "    'July':'Julho',\n",
        "    'August':'Agosto',\n",
        "    'September':'Setembro',\n",
        "    'October':'Outubro',\n",
        "    'November':'Novembro',\n",
        "    'December':'Dezembro'\n",
        "    }"
      ],
      "metadata": {
        "id": "7YMY1eAWSSuY"
      },
      "execution_count": null,
      "outputs": []
    },
    {
      "cell_type": "code",
      "source": [
        "# Ajustes de visualização dos gráficos\n",
        "#%pylab inline\n",
        "#pylab.rcParams['figure.figsize'] = (14, 9)"
      ],
      "metadata": {
        "id": "KquYQGXAShFV"
      },
      "execution_count": null,
      "outputs": []
    },
    {
      "cell_type": "code",
      "source": [
        "# Ajustes de visualização dos formatos númericos/decimais do dataframe\n",
        "#pd.set_option('display.precision', 0)\n",
        "#pd.set_option('float_format', '{:.0f}'.format)\n",
        "#pd.options.display.float_format = '{:,.0f}'.format\n",
        "#pd.set_option('display.expand_frame_repr', False)"
      ],
      "metadata": {
        "id": "L9OZVMfGSkk0"
      },
      "execution_count": null,
      "outputs": []
    },
    {
      "cell_type": "markdown",
      "source": [
        "# Análise exploratória inicial"
      ],
      "metadata": {
        "id": "iWA1Ms4kS0kW"
      }
    },
    {
      "cell_type": "code",
      "source": [
        "df.loc[1]"
      ],
      "metadata": {
        "id": "9wIlzJYa2OEL"
      },
      "execution_count": null,
      "outputs": []
    },
    {
      "cell_type": "markdown",
      "metadata": {
        "id": "yS_3T9GuHwsl"
      },
      "source": [
        "*   Os IDs dos clientes também estão criptografados.\n",
        "*   A data de atualização da assinatura mostra a última atualização recebida no sistema.\n",
        "*   A data de aniversário do cliente possuí outliers.\n",
        "*   A data de aniversário do cliente irá gerar novas colunas como idade, faixa etária e se é idoso.\n",
        "*   O registro de atualização da assinatura é igual a data de última compra.\n",
        "*   O cliente fez a última compra em 08/01/2021 às 11:23; e\n",
        "*   O cliente pausou a assinatura no mesmo minuto que realizou sua última compra."
      ]
    },
    {
      "cell_type": "code",
      "execution_count": null,
      "metadata": {
        "id": "nvusaMIYCpl9"
      },
      "outputs": [],
      "source": [
        "df.describe(include=['category', 'object'])"
      ]
    },
    {
      "cell_type": "markdown",
      "source": [
        "*   A maioria dos clientes possuí assinatura ativa.\n",
        "*   O estado que mais possuí clientes é o Tocantins?\n",
        "*   O marketing que mais converte assinaturas é o tráfego orgânico.\n",
        "*   Existem 2.905 versões de assinaturas repetidas no total de 10.000?\n",
        "*   A assinatura que mais se repete é a de número 4.26.7."
      ],
      "metadata": {
        "id": "8XJMEshv5Xjp"
      }
    },
    {
      "cell_type": "code",
      "source": [
        "df.describe(include=['datetime'])"
      ],
      "metadata": {
        "id": "NNngpyxu07bP"
      },
      "execution_count": null,
      "outputs": []
    },
    {
      "cell_type": "markdown",
      "source": [
        "*   A primeira assinatura foi criada em 19 de fevereiro de 2016 às 10:00.\n",
        "*   A última assinatura foi criada em 18 de fevereiro de 2021 às 05:04.\n",
        "*   Existem 629 atualizações de assinatura com horas e minutos iguais.\n",
        "*   E existem exatamente 629 últimas compras realizadas em horas/minutos iguais a data de atualização da assinatura.\n",
        "*   **A data de aniversário de alguns clientes possuí outliers.**\n",
        "*   **Qual a correlação entre a data de atualização e a data de última compra?**\n",
        "*   **Existe alguma correlação entre a data de atualização e a data de cancelamento da assinatura?**\n",
        "*   **Qual a média, moda e mediana da idade dos clientes?**\n",
        "*   **Os clientes são idosos?**"
      ],
      "metadata": {
        "id": "Li3njRWZ38fo"
      }
    },
    {
      "cell_type": "code",
      "source": [
        "df.describe()"
      ],
      "metadata": {
        "id": "JFR20lIC1MUc"
      },
      "execution_count": null,
      "outputs": []
    },
    {
      "cell_type": "markdown",
      "source": [
        "*   Todos os clientes em todo o período gastam em média R$ 217,02.\n",
        "*   Todos os clientes em todo o período compram em média 8 itens.\n",
        "*   **O total de receita possuí outliers.**\n",
        "*   **O total de pedidos possuí outliers no mínimo.**\n",
        "*   **O total de dias de última compra possuí muitos outliers.**"
      ],
      "metadata": {
        "id": "bATVnhtB2vzF"
      }
    },
    {
      "cell_type": "markdown",
      "metadata": {
        "id": "DojyIGmPAA-0"
      },
      "source": [
        "# Análise exploratória"
      ]
    },
    {
      "cell_type": "markdown",
      "source": [
        "## Remoção de dados"
      ],
      "metadata": {
        "id": "dZUoKWg65HFO"
      }
    },
    {
      "cell_type": "markdown",
      "source": [
        "É impossível prever se os clientes são únicos, pois os dados estão criptografados.\n",
        "O Id não é variável explicativa."
      ],
      "metadata": {
        "id": "7Wg1k63fP1Cj"
      }
    },
    {
      "cell_type": "code",
      "source": [
        "# Verificação de registros únicos\n",
        "#print(df['id'].nunique())\n",
        "\n",
        "# Remoção dos registros\n",
        "#df.drop(\n",
        "#    ['id'], axis=1, inplace=True\n",
        "#)"
      ],
      "metadata": {
        "id": "NJtOaSQFTG35"
      },
      "execution_count": null,
      "outputs": []
    },
    {
      "cell_type": "markdown",
      "source": [
        "## Dados temporais"
      ],
      "metadata": {
        "id": "ob9ayHhv5QI1"
      }
    },
    {
      "cell_type": "code",
      "source": [
        "# Reclassificando as linhas em ordem crescente\n",
        "#df.sort_values(by=['created_at'], ascending=True, inplace=True)"
      ],
      "metadata": {
        "id": "I5yYJKPTFlVo"
      },
      "execution_count": null,
      "outputs": []
    },
    {
      "cell_type": "code",
      "source": [
        "# Datetime Series Created At\n",
        "#created_datetime_series = pd.to_datetime(df['created_at'])\n",
        "#created_dt_series = pd.DatetimeIndex(created_datetime_series.values)\n",
        "#df = df.set_index(created_dt_series).set_index('created_at').rename_axis('Data de criação da assinatura')\n",
        "#df.describe()"
      ],
      "metadata": {
        "id": "l8IOsgMREXTS"
      },
      "execution_count": null,
      "outputs": []
    },
    {
      "cell_type": "code",
      "source": [
        "# Datetime Series Updated At\n",
        "#updated_datetime_series = pd.to_datetime(df['updated_at'])\n",
        "#updated_dt_series = pd.DatetimeIndex(updated_datetime_series.values)\n",
        "#df_mod = df.set_index(updated_dt_series).set_index('updated_at').rename_axis('Data da última modificação da assinatura')\n",
        "#df_mod.describe()\n",
        "\n",
        "# > CHECK ROWS (?)"
      ],
      "metadata": {
        "id": "3vR5G_HIGPGv"
      },
      "execution_count": null,
      "outputs": []
    },
    {
      "cell_type": "code",
      "source": [
        "# Datetime Series Deleted At\n",
        "#deleted_datetime_series = pd.to_datetime(df['deleted_at'])\n",
        "#deleted_dt_series = pd.DatetimeIndex(deleted_datetime_series.values)\n",
        "#df_mod = df.set_index(deleted_dt_series).set_index('deleted_at').rename_axis('Data de cancelamento da assinatura')\n",
        "#df_mod.describe()\n",
        "\n",
        "# > DROP ROWS NaT"
      ],
      "metadata": {
        "id": "2v1wxwdBGrdf"
      },
      "execution_count": null,
      "outputs": []
    },
    {
      "cell_type": "code",
      "source": [
        "# Datetime Series Birth Date\n",
        "#age_datetime_series = pd.to_datetime(df['birth_date'])\n",
        "#age_dt_series = pd.DatetimeIndex(age_datetime_series.values)\n",
        "#df_age = df.set_index(age_dt_series).set_index('birth_date').rename_axis('Data de aniversário do cliente')\n",
        "#df_age.describe()\n",
        "\n",
        "# > CHECK OUTLIERS"
      ],
      "metadata": {
        "id": "HM_IvTIx6rCo"
      },
      "execution_count": null,
      "outputs": []
    },
    {
      "cell_type": "code",
      "source": [
        "# Datetime Series Last Date Purchase\n",
        "#lastPurchase_datetime_series = pd.to_datetime(df['last_date_purchase'])\n",
        "#lastPurchase_dt_series = pd.DatetimeIndex(lastPurchase_datetime_series.values)\n",
        "#df_sales = df.set_index(lastPurchase_dt_series).set_index('last_date_purchase').rename_axis('Data do último pedido que ocorreu pela assinatura')\n",
        "#df_sales.describe()\n",
        "\n",
        "# > CHECK (?)"
      ],
      "metadata": {
        "id": "ieAerp_2HhBi"
      },
      "execution_count": null,
      "outputs": []
    },
    {
      "cell_type": "markdown",
      "source": [
        "## Boxplot para outliers"
      ],
      "metadata": {
        "id": "rVlXnrBooVQ0"
      }
    },
    {
      "cell_type": "code",
      "source": [
        "# Boxplot\n",
        "boxplot_df = df"
      ],
      "metadata": {
        "id": "BqjjIScMoelg"
      },
      "execution_count": null,
      "outputs": []
    },
    {
      "cell_type": "code",
      "source": [
        "boxplot_df.dtypes"
      ],
      "metadata": {
        "id": "OB-8_KcI-dDv"
      },
      "execution_count": null,
      "outputs": []
    },
    {
      "cell_type": "code",
      "source": [
        "#boxplot_df['items_quantity'] = pd.to_numeric(df['items_quantity'], errors='coerce').astype('int')\n",
        "#boxplot_df['all_orders'] = pd.to_numeric(df['all_orders'], errors='coerce').astype('int')\n",
        "#boxplot_df['recency'] = pd.to_numeric(df['recency'], errors='coerce').astype('int')\n",
        "#boxplot_df['all_revenue'] = pd.to_numeric(df['all_revenue'], errors='coerce').astype('float64')\n",
        "#boxplot_df['average_ticket'] = pd.to_numeric(df['average_ticket'], errors='coerce').astype('float64')"
      ],
      "metadata": {
        "id": "z2zxe3Xh1aXv"
      },
      "execution_count": null,
      "outputs": []
    },
    {
      "cell_type": "code",
      "source": [
        "selectColsBoxplot = ['average_ticket', 'items_quantity', 'all_revenue', 'all_orders', 'recency']"
      ],
      "metadata": {
        "id": "_bGjQXlu2KxZ"
      },
      "execution_count": null,
      "outputs": []
    },
    {
      "cell_type": "code",
      "source": [
        "boxplot_df = boxplot_df.filter(items=selectColsBoxplot)\n",
        "boxplot_df = boxplot_df.reset_index(drop=True)\n",
        "boxplot_df"
      ],
      "metadata": {
        "id": "u-H0cbAGrVsP"
      },
      "execution_count": null,
      "outputs": []
    },
    {
      "cell_type": "code",
      "source": [
        "boxplot_df.dtypes"
      ],
      "metadata": {
        "id": "TqlXaU8L0_rH"
      },
      "execution_count": null,
      "outputs": []
    },
    {
      "cell_type": "code",
      "source": [
        "np.random.seed(1234)\n",
        "df = pd.DataFrame(np.random.randn(10, 4),\n",
        "                  columns=['average_ticket', 'all_revenue', 'all_items', 'all_orders', 'recency'])\n",
        "boxplot = df.boxplot(column=['Col1', 'Col2', 'Col3'])  "
      ],
      "metadata": {
        "id": "lfmE4cq5RM_T"
      },
      "execution_count": null,
      "outputs": []
    },
    {
      "cell_type": "code",
      "source": [
        "def plot_boxplot(df, ft):\n",
        "  df.boxplot(column=[ft])\n",
        "  plt.grid(False)\n",
        "  plt.show()"
      ],
      "metadata": {
        "id": "b_VK0N2ltHPI"
      },
      "execution_count": null,
      "outputs": []
    },
    {
      "cell_type": "code",
      "source": [
        "plot_boxplot(boxplot_df, 'average_ticket')"
      ],
      "metadata": {
        "id": "PUDWyQ_lv46H"
      },
      "execution_count": null,
      "outputs": []
    },
    {
      "cell_type": "code",
      "source": [
        "plot_boxplot(boxplot_df, 'items_quantity')"
      ],
      "metadata": {
        "id": "b_lCb6iBwSqn"
      },
      "execution_count": null,
      "outputs": []
    },
    {
      "cell_type": "code",
      "source": [
        "plot_boxplot(boxplot_df, 'all_revenue')"
      ],
      "metadata": {
        "id": "u7h1CH-8yzC6"
      },
      "execution_count": null,
      "outputs": []
    },
    {
      "cell_type": "code",
      "source": [
        "plot_boxplot(boxplot_df, 'all_orders')"
      ],
      "metadata": {
        "id": "1NPRfgZ7y7tL"
      },
      "execution_count": null,
      "outputs": []
    },
    {
      "cell_type": "code",
      "source": [
        "plot_boxplot(boxplot_df, 'recency')"
      ],
      "metadata": {
        "id": "v6WZ6ukVy_zV"
      },
      "execution_count": null,
      "outputs": []
    },
    {
      "cell_type": "markdown",
      "source": [
        "## remoção de outliers"
      ],
      "metadata": {
        "id": "NTJA-40uwenY"
      }
    },
    {
      "cell_type": "code",
      "source": [
        "# IQR = Q3-Q1\n",
        "# +/- 1.5*IQR\n",
        "\n",
        "def outliers(df, ft):\n",
        "  Q1 = df[ft].quantile(0.25)\n",
        "  Q3 = df[ft].quantile(0.75)\n",
        "  IQR = Q3 - Q1\n",
        "\n",
        "  lower_bound = Q1 - 1.5 * IQR\n",
        "  upper_bound = Q3 + 1.5 * IQR\n",
        "\n",
        "  ls = df.index[ (df[ft] < lower_bound | df[ft] > upper_bound) ]\n",
        "\n",
        "  return ls"
      ],
      "metadata": {
        "id": "MlstZRM1x1cM"
      },
      "execution_count": null,
      "outputs": []
    },
    {
      "cell_type": "code",
      "source": [
        "def plot_boxplot(df, ft):\n",
        "  df.boxplot(column=[ft])\n",
        "  plt.grid(False)\n",
        "  plt.show()\n",
        "  index_list = []\n",
        "for feature in ['items_quantity', 'all_orders', 'recency']:\n",
        "  index_list.extend(outliers(boxplot_df, feature))"
      ],
      "metadata": {
        "id": "NMb2EZqJyirY"
      },
      "execution_count": null,
      "outputs": []
    },
    {
      "cell_type": "code",
      "source": [
        "index_list"
      ],
      "metadata": {
        "id": "tg9uXJzGzdDM"
      },
      "execution_count": null,
      "outputs": []
    },
    {
      "cell_type": "markdown",
      "metadata": {
        "id": "yDvWq6TMqmW3"
      },
      "source": [
        "## deleted_at"
      ]
    },
    {
      "cell_type": "code",
      "execution_count": null,
      "metadata": {
        "id": "_mg7Gzbdq0Tq"
      },
      "outputs": [],
      "source": [
        "df.deleted_at.describe()"
      ]
    },
    {
      "cell_type": "code",
      "execution_count": null,
      "metadata": {
        "id": "s8Ik3HiLoLIX"
      },
      "outputs": [],
      "source": [
        "df['deleted_at'].isnull().sum()"
      ]
    },
    {
      "cell_type": "code",
      "execution_count": null,
      "metadata": {
        "id": "A0jxFzj5oNuL"
      },
      "outputs": [],
      "source": [
        "#coluna de clientes que cancelaram a assinatura\n",
        "df.loc[df['status'] == 'active', 'exit'] = 'Não'\n",
        "df.loc[df['status'] == 'canceled', 'exit'] = 'Sim'\n",
        "df.loc[df['status'] == 'paused', 'exit'] = 'Não'"
      ]
    },
    {
      "cell_type": "code",
      "execution_count": null,
      "metadata": {
        "id": "eLLSRf1BFWae"
      },
      "outputs": [],
      "source": [
        "df['exit'].value_counts()\n",
        "sns.countplot(df['exit'])"
      ]
    },
    {
      "cell_type": "markdown",
      "metadata": {
        "id": "Ix4Q-H5MoXTb"
      },
      "source": [
        "**clientes que cancelaram a assinatura:** 505"
      ]
    },
    {
      "cell_type": "code",
      "source": [
        "# Existe alguma correlação entre o cancelamento de assinatura e a quantidade de pedidos?\n",
        "df_exit_sim = df.drop('exit',axis=1)\n",
        "corr = df.corr()\n",
        "corr.style.background_gradient(cmap='coolwarm')"
      ],
      "metadata": {
        "id": "t6GDB27RmwMq"
      },
      "execution_count": null,
      "outputs": []
    },
    {
      "cell_type": "code",
      "source": [
        ""
      ],
      "metadata": {
        "id": "s0FNjeCGtVlw"
      },
      "execution_count": null,
      "outputs": []
    },
    {
      "cell_type": "markdown",
      "metadata": {
        "id": "5IuBDw_foxm4"
      },
      "source": [
        "## birth_date"
      ]
    },
    {
      "cell_type": "code",
      "execution_count": null,
      "metadata": {
        "id": "RTsoERwIoyyz"
      },
      "outputs": [],
      "source": [
        "#coluna de idade dos clientes\n",
        "now = pd.Timestamp('now')\n",
        "df['birth_date'] = pd.to_datetime(df['birth_date'], format='%Y/%m/%d')\n",
        "df['birth_date'] = df['birth_date'].where(df['birth_date'] < now, df['birth_date'] - np.timedelta64(100, 'Y'))\n",
        "df['age'] = (now - df['birth_date']).astype('<m8[Y]')\n",
        "df['age'].describe()"
      ]
    },
    {
      "cell_type": "code",
      "execution_count": null,
      "metadata": {
        "id": "KuLNTVfZo1zd"
      },
      "outputs": [],
      "source": [
        "df.age.mode()"
      ]
    },
    {
      "cell_type": "code",
      "source": [
        "sns.displot(df, x='age',bins=[26,34,44,54,64,82])"
      ],
      "metadata": {
        "id": "7Q9FHjqNZ-5L"
      },
      "execution_count": null,
      "outputs": []
    },
    {
      "cell_type": "code",
      "execution_count": null,
      "metadata": {
        "id": "ISCPlKoE6E5s"
      },
      "outputs": [],
      "source": [
        "df.query('age < 65').describe()"
      ]
    },
    {
      "cell_type": "code",
      "source": [
        "sns.displot(df, x='age',bins=[26,34,44,54,64])"
      ],
      "metadata": {
        "id": "yWt3FyhGe3K_"
      },
      "execution_count": null,
      "outputs": []
    },
    {
      "cell_type": "markdown",
      "metadata": {
        "id": "gZNmAqi2CF1b"
      },
      "source": [
        "Média de clientes abaixo dos 65 anos\n",
        "*   **Idade mínima:** 26 anos\n",
        "*   **Idade máxima:** 64 anos\n",
        "*   **Idade média:** 45 anos"
      ]
    },
    {
      "cell_type": "code",
      "execution_count": null,
      "metadata": {
        "id": "4MTkSab7-LYv"
      },
      "outputs": [],
      "source": [
        "df.query('age > 65').describe()"
      ]
    },
    {
      "cell_type": "code",
      "execution_count": null,
      "metadata": {
        "id": "c7jkXxJ89dmx"
      },
      "outputs": [],
      "source": [
        "df.query('age >= 55 & age <= 64').describe()"
      ]
    },
    {
      "cell_type": "markdown",
      "metadata": {
        "id": "c6hi2tHzsEy7"
      },
      "source": [
        "### seniorCitizen"
      ]
    },
    {
      "cell_type": "code",
      "execution_count": null,
      "metadata": {
        "id": "gRCaBZfTpA4M"
      },
      "outputs": [],
      "source": [
        "#cliente é idoso?\n",
        "df['seniorCitizen'] = pd.cut(\n",
        "    df['age'],\n",
        "    bins = [0,65,sys.maxsize],\n",
        "    ordered = True,\n",
        "    labels = ['Não','Sim'],\n",
        "    right=True\n",
        ")\n",
        "df.seniorCitizen.value_counts()"
      ]
    },
    {
      "cell_type": "code",
      "source": [
        "sns.displot(df, x='age',bins=[65,66,67,68,69,70,71,72,73,74,75,76,77,78,79,80,81,82])"
      ],
      "metadata": {
        "id": "LmmZ_ohif8wk"
      },
      "execution_count": null,
      "outputs": []
    },
    {
      "cell_type": "markdown",
      "metadata": {
        "id": "AfEFCa92pG0H"
      },
      "source": [
        "**Total de clientes idosos:** 2.804"
      ]
    },
    {
      "cell_type": "markdown",
      "metadata": {
        "id": "AoCdVoEAsIEJ"
      },
      "source": [
        "### ageGroup"
      ]
    },
    {
      "cell_type": "markdown",
      "metadata": {
        "id": "zD59i7RIpLqe"
      },
      "source": [
        "Insight: Agrupando clientes por faixa de idade em nova coluna\n",
        "... 26 a 34 | 35 a 44 | 45 a 54 | 55 a 64 | 65 ou mais\n",
        "Idade mínima: 26 anos - Idade máxima: 82 anos\n",
        "Fonte Google Ads: https://support.google.com/searchads/answer/6309527?hl=pt-BR\n"
      ]
    },
    {
      "cell_type": "code",
      "execution_count": null,
      "metadata": {
        "id": "H58roOj7qZaG"
      },
      "outputs": [],
      "source": [
        "#faixa etaria clientes\n",
        "df['ageGroup'] = pd.cut(\n",
        "    df['age'],\n",
        "    bins = [0,26,35,45,55,65,sys.maxsize],\n",
        "    ordered = True,\n",
        "    labels = ['Até 26 anos','27 a 34 anos', '35 a 44 anos', '45 a 54 anos', '55 a 64 anos', '65 anos ou mais'],\n",
        "    right=True\n",
        ")"
      ]
    },
    {
      "cell_type": "code",
      "source": [
        ""
      ],
      "metadata": {
        "id": "MrkF2kNQhdH5"
      },
      "execution_count": null,
      "outputs": []
    },
    {
      "cell_type": "markdown",
      "metadata": {
        "id": "RFmJQvIjz3dE"
      },
      "source": [
        "## marketing_source (R: organic_search)"
      ]
    },
    {
      "cell_type": "code",
      "execution_count": null,
      "metadata": {
        "id": "NBMxMugJk3Al"
      },
      "outputs": [],
      "source": [
        "df['marketing_source'].isna().sum()"
      ]
    },
    {
      "cell_type": "code",
      "source": [
        "df.marketing_source.unique()"
      ],
      "metadata": {
        "id": "3kKNFszbhKyv"
      },
      "execution_count": null,
      "outputs": []
    },
    {
      "cell_type": "code",
      "execution_count": null,
      "metadata": {
        "id": "Du5YOQnO1ZHQ"
      },
      "outputs": [],
      "source": [
        "df.marketing_source.value_counts().reset_index()"
      ]
    },
    {
      "cell_type": "code",
      "source": [
        "sns.set(style='darkgrid')\n",
        "df.marketing_source.value_counts()\n",
        "sns.countplot(df.marketing_source)"
      ],
      "metadata": {
        "id": "Sxrr3cVrl897"
      },
      "execution_count": null,
      "outputs": []
    },
    {
      "cell_type": "code",
      "execution_count": null,
      "metadata": {
        "id": "FiAXvEWq5lnu"
      },
      "outputs": [],
      "source": [
        "# Tráfego orgânico (produção de conteúdo)\n",
        "df.loc[df['marketing_source'] == 'organic_search', 'organic_search'] = 'Sim'\n",
        "df.loc[df['marketing_source'] != 'organic_search', 'organic_search'] = 'Não'\n",
        "\n",
        "### Tráfego direto (www)\n",
        "df.loc[df['marketing_source'] == 'direct', 'direct'] = 'Sim'\n",
        "df.loc[df['marketing_source'] != 'direct', 'direct'] = 'Não'\n",
        "\n",
        "# Tráfego patrocinado (ads)\n",
        "df.loc[df['marketing_source'] == 'paid_search', 'paid_search'] = 'Sim'\n",
        "df.loc[df['marketing_source'] != 'paid_search', 'paid_search'] = 'Não'\n",
        "\n",
        "# Aplicativos (telegram/whatsapp)\n",
        "df.loc[df['marketing_source'] == 'telegram_whatsapp', 'telegram_whatsapp'] = 'Sim'\n",
        "df.loc[df['marketing_source'] != 'telegram_whatsapp', 'telegram_whatsapp'] = 'Não'\n",
        "\n",
        "# Sistema (crm)\n",
        "df.loc[df['marketing_source'] == 'crm', 'crm'] = 'Sim'\n",
        "df.loc[df['marketing_source'] != 'crm', 'crm'] = 'Não'"
      ]
    },
    {
      "cell_type": "markdown",
      "metadata": {
        "id": "usSQ2VU6635X"
      },
      "source": [
        "## version"
      ]
    },
    {
      "cell_type": "code",
      "source": [
        "# qual versão mais utilizada?\n",
        "df.version.mode()"
      ],
      "metadata": {
        "id": "16uKsdvqvAhu"
      },
      "execution_count": null,
      "outputs": []
    },
    {
      "cell_type": "code",
      "source": [
        "# qual a versão mínima utilizada?\n",
        "df.version.min()"
      ],
      "metadata": {
        "id": "kpDgtUra0CH5"
      },
      "execution_count": null,
      "outputs": []
    },
    {
      "cell_type": "code",
      "source": [
        "# qual a versão média mais utilizada?\n",
        "df.version.value_counts().describe()"
      ],
      "metadata": {
        "id": "ppozAzE7xYNR"
      },
      "execution_count": null,
      "outputs": []
    },
    {
      "cell_type": "markdown",
      "source": [
        "Outliers: versão 24"
      ],
      "metadata": {
        "id": "GDu-q1Ibz8DD"
      }
    },
    {
      "cell_type": "code",
      "source": [
        "df[df['version'].str.contains('-')].shape[0]"
      ],
      "metadata": {
        "id": "kZFzC0QyS6rp"
      },
      "execution_count": null,
      "outputs": []
    },
    {
      "cell_type": "code",
      "source": [
        "df[df['version'].str.contains('-')].head()"
      ],
      "metadata": {
        "id": "IGCmbhuVTsMb"
      },
      "execution_count": null,
      "outputs": []
    },
    {
      "cell_type": "code",
      "source": [
        "df['version'] = df.version.replace(['-'], [''], inplace=True)"
      ],
      "metadata": {
        "id": "_rwp4o66Tpaz"
      },
      "execution_count": null,
      "outputs": []
    },
    {
      "cell_type": "code",
      "source": [
        "df['version'] = df['version'].astype('category')"
      ],
      "metadata": {
        "id": "rtB6zfbeids0"
      },
      "execution_count": null,
      "outputs": []
    },
    {
      "cell_type": "code",
      "source": [
        "from distutils.version import StrictVersion\n",
        "sorted(df['version'], key=StrictVersion)\n",
        "print(df['version'])"
      ],
      "metadata": {
        "id": "kQOxvwcOzKEs"
      },
      "execution_count": null,
      "outputs": []
    },
    {
      "cell_type": "markdown",
      "source": [
        "Outliers: hifenização"
      ],
      "metadata": {
        "id": "70bchgQazbi3"
      }
    },
    {
      "cell_type": "code",
      "source": [
        "# quantas vezes a versão mais utilizada se repete?\n",
        "df.version.value_counts()"
      ],
      "metadata": {
        "id": "VTOJv9bbvUVO"
      },
      "execution_count": null,
      "outputs": []
    },
    {
      "cell_type": "code",
      "source": [
        "# qual as 5 versões principais mais utilizadas?\n",
        "df['version'].apply(lambda x: x.split('.')[0]).value_counts().reset_index()[:5]"
      ],
      "metadata": {
        "id": "WrRXifcnvlal"
      },
      "execution_count": null,
      "outputs": []
    },
    {
      "cell_type": "code",
      "source": [
        "# qual a subversão 3 mais utilizada?\n",
        "df['version'].apply(lambda x: x.split('.')[1]).value_counts().reset_index()"
      ],
      "metadata": {
        "id": "0X1jflBWv7uI"
      },
      "execution_count": null,
      "outputs": []
    },
    {
      "cell_type": "code",
      "source": [
        "# e qual a subversão 4 mais utilizada?\n",
        "df['version'].apply(lambda x: x.split('.')[1]).value_counts().reset_index()"
      ],
      "metadata": {
        "id": "CJZFC3tKwIwg"
      },
      "execution_count": null,
      "outputs": []
    },
    {
      "cell_type": "code",
      "source": [
        "from distutils.version import LooseVersion, StrictVersion\n",
        "LooseVersion('0.0.1') < LooseVersion('1.1.1')\n",
        "StrictVersion('0.0.1') < StrictVersion('1.1.1')\n"
      ],
      "metadata": {
        "id": "zrNxkQlQZC3u"
      },
      "execution_count": null,
      "outputs": []
    },
    {
      "cell_type": "code",
      "source": [
        "df['version'].pd.to_numeric"
      ],
      "metadata": {
        "id": "KSHn9tS-YnDT"
      },
      "execution_count": null,
      "outputs": []
    },
    {
      "cell_type": "code",
      "source": [
        "df['version'].mean()"
      ],
      "metadata": {
        "id": "nc__USyRYi1d"
      },
      "execution_count": null,
      "outputs": []
    },
    {
      "cell_type": "code",
      "source": [
        "df['version'].apply(lambda x: x.split('.')[0]).value_counts().reset_index()"
      ],
      "metadata": {
        "id": "E3KxemhrH9CK"
      },
      "execution_count": null,
      "outputs": []
    },
    {
      "cell_type": "code",
      "source": [
        "df['version'].apply(lambda x: x.split('.')[1]).value_counts().reset_index()"
      ],
      "metadata": {
        "id": "cIYV0nMLJkAr"
      },
      "execution_count": null,
      "outputs": []
    },
    {
      "cell_type": "code",
      "source": [
        "re.search(r'\\?:-', '-')\n",
        "print('re.search')"
      ],
      "metadata": {
        "id": "lNmkVScJKt_6"
      },
      "execution_count": null,
      "outputs": []
    },
    {
      "cell_type": "code",
      "source": [
        "df['version'].apply(lambda x: x.split('.')[2]).value_counts().reset_index()"
      ],
      "metadata": {
        "id": "-MyDXicHKHIr"
      },
      "execution_count": null,
      "outputs": []
    },
    {
      "cell_type": "code",
      "source": [
        "df['versionGroup'] = df['version'].apply(lambda x: x.split('.')[0])\n",
        "df.head()"
      ],
      "metadata": {
        "id": "fh8zFPHJSbYr"
      },
      "execution_count": null,
      "outputs": []
    },
    {
      "cell_type": "markdown",
      "metadata": {
        "id": "OAu_n9nnUduC"
      },
      "source": [
        "## state"
      ]
    },
    {
      "cell_type": "code",
      "execution_count": null,
      "metadata": {
        "id": "81WlOuOcUfVx"
      },
      "outputs": [],
      "source": [
        "df.state.value_counts()"
      ]
    },
    {
      "cell_type": "code",
      "execution_count": null,
      "metadata": {
        "id": "hKnYduz7D1wY"
      },
      "outputs": [],
      "source": [
        "df.state.unique()"
      ]
    },
    {
      "cell_type": "code",
      "execution_count": null,
      "metadata": {
        "id": "7uw0BOymD5Up"
      },
      "outputs": [],
      "source": [
        "# mapeando macro regiões\n",
        "df['regions'] = df.state.map({\n",
        "    'TO':'Norte',\n",
        "    'GO':'Centro-Oeste',\n",
        "    'RR':'Norte',\n",
        "    'PR':'Sul',\n",
        "    'RS':'Sul',\n",
        "    'AP':'Norte',\n",
        "    'RO':'Norte',\n",
        "    'AM':'Norte',\n",
        "    'CE':'Nordeste',\n",
        "    'RJ':'Sudeste',\n",
        "    'MS':'Centro-Oeste',\n",
        "    'MG':'Sudeste',\n",
        "    'PB':'Nordeste',\n",
        "    'SC':'Sul',\n",
        "    'BA':'Nordeste',\n",
        "    'MT':'Centro-Oeste',\n",
        "    'SE':'Nordeste',\n",
        "    'PE':'Nordeste',\n",
        "    'AC':'Norte',\n",
        "    'DF':'Centro-Oeste',\n",
        "    'MA':'Nordeste',\n",
        "    'SP':'Sudeste',\n",
        "    'RN':'Nordeste',\n",
        "    'AL':'Nordeste',\n",
        "    'ES':'Sudeste',\n",
        "    'PA':'Norte',\n",
        "    'PI':'Nordeste'\n",
        "})"
      ]
    },
    {
      "cell_type": "code",
      "execution_count": null,
      "metadata": {
        "id": "aX4RT0BKGkW5"
      },
      "outputs": [],
      "source": [
        "df.regions.value_counts()"
      ]
    },
    {
      "cell_type": "markdown",
      "metadata": {
        "id": "Jfpqo6X6Pnfi"
      },
      "source": [
        "## all_revenue"
      ]
    },
    {
      "cell_type": "code",
      "execution_count": null,
      "metadata": {
        "id": "PJyyNOBxPqNK"
      },
      "outputs": [],
      "source": [
        "df.all_revenue.describe()"
      ]
    },
    {
      "cell_type": "markdown",
      "source": [
        "Outliers: min, max"
      ],
      "metadata": {
        "id": "1yl8eyBNr9wA"
      }
    },
    {
      "cell_type": "code",
      "execution_count": null,
      "metadata": {
        "id": "B3i_L9GoP9xI"
      },
      "outputs": [],
      "source": [
        "df.all_revenue.nunique()"
      ]
    },
    {
      "cell_type": "code",
      "execution_count": null,
      "metadata": {
        "id": "aYQ2NAJ9Q8rr"
      },
      "outputs": [],
      "source": [
        "df.query('all_revenue <= 0').value_counts()"
      ]
    },
    {
      "cell_type": "code",
      "source": [
        "pd.set_option('display.precision',2)\n",
        "pd.set_option('float_format', '{:,.2f}'.format)"
      ],
      "metadata": {
        "id": "uj3mLq1i5bbM"
      },
      "execution_count": null,
      "outputs": []
    },
    {
      "cell_type": "code",
      "source": [
        "# avaliando a receita total dos assinantes\n",
        "df.plot.density(y='all_revenue',xlim=[763,1174],figsize=[12,6])"
      ],
      "metadata": {
        "id": "8TcIGY0no3i0"
      },
      "execution_count": null,
      "outputs": []
    },
    {
      "cell_type": "markdown",
      "source": [
        "## all_orders"
      ],
      "metadata": {
        "id": "e6Vjd6VeRJzH"
      }
    },
    {
      "cell_type": "code",
      "source": [
        "df.all_orders.describe()"
      ],
      "metadata": {
        "id": "SJBbfEC9RK-U"
      },
      "execution_count": null,
      "outputs": []
    },
    {
      "cell_type": "code",
      "source": [
        "df.all_orders.nunique()"
      ],
      "metadata": {
        "id": "54hGEJ1URXqO"
      },
      "execution_count": null,
      "outputs": []
    },
    {
      "cell_type": "markdown",
      "source": [
        "Outliers: 0"
      ],
      "metadata": {
        "id": "EfCYt01BRUNn"
      }
    },
    {
      "cell_type": "code",
      "source": [
        "df.query('all_orders <= 0').value_counts()"
      ],
      "metadata": {
        "id": "P1mEHMnrRRxN"
      },
      "execution_count": null,
      "outputs": []
    },
    {
      "cell_type": "markdown",
      "metadata": {
        "id": "rT8O3mvOU4W3"
      },
      "source": [
        "## last_date_purchase"
      ]
    },
    {
      "cell_type": "code",
      "execution_count": null,
      "metadata": {
        "id": "OAVqJU4FU58w"
      },
      "outputs": [],
      "source": [
        "df.last_date_purchase.min()"
      ]
    },
    {
      "cell_type": "code",
      "execution_count": null,
      "metadata": {
        "id": "n8vtSSCIU_g5"
      },
      "outputs": [],
      "source": [
        "df.last_date_purchase.max()"
      ]
    },
    {
      "cell_type": "markdown",
      "source": [
        "## recency (R: 36 dias)"
      ],
      "metadata": {
        "id": "yC491fZGqdFH"
      }
    },
    {
      "cell_type": "code",
      "source": [
        "df.recency.describe()"
      ],
      "metadata": {
        "id": "HHvZuftiqh6K"
      },
      "execution_count": null,
      "outputs": []
    },
    {
      "cell_type": "code",
      "source": [
        "df.recency.mode()"
      ],
      "metadata": {
        "id": "y-n9nkbkqw5e"
      },
      "execution_count": null,
      "outputs": []
    },
    {
      "cell_type": "markdown",
      "source": [
        "Outliers: max, min, std, mean"
      ],
      "metadata": {
        "id": "XXYS7TU0qntP"
      }
    },
    {
      "cell_type": "code",
      "source": [
        "# análise univariada: média de dias para assinante realizar novo pedido\n",
        "df.plot.density(y='recency',xlim=[1,68],figsize=[6,3])"
      ],
      "metadata": {
        "id": "cY5ObL28qf8_"
      },
      "execution_count": null,
      "outputs": []
    },
    {
      "cell_type": "markdown",
      "source": [
        "Os clientes levam 36 dias para fazer um novo pedido."
      ],
      "metadata": {
        "id": "sti0PRlSrNtr"
      }
    },
    {
      "cell_type": "markdown",
      "source": [
        "# Análise multivariada"
      ],
      "metadata": {
        "id": "qBDu0PeGQpwY"
      }
    },
    {
      "cell_type": "code",
      "source": [
        "df_2020 = df.groupby(['year-month', 'state'])['status', 'age', 'marketing_source'].sum().reset_index()"
      ],
      "metadata": {
        "id": "XmH06tR5QvBv"
      },
      "execution_count": null,
      "outputs": []
    },
    {
      "cell_type": "code",
      "source": [
        "petlove.head()"
      ],
      "metadata": {
        "id": "4ckxaUgM2cTW"
      },
      "execution_count": null,
      "outputs": []
    }
  ],
  "metadata": {
    "colab": {
      "collapsed_sections": [
        "iKRWKrlvo95P",
        "LrAcr4L4weIq",
        "o9CaDeT2Ceu_",
        "iWA1Ms4kS0kW",
        "RFmJQvIjz3dE"
      ],
      "name": "amostraPetLove.ipynb",
      "provenance": [],
      "toc_visible": true,
      "authorship_tag": "ABX9TyNJXYQLok/yfRLsmCg1+XJn",
      "include_colab_link": true
    },
    "kernelspec": {
      "display_name": "Python 3",
      "name": "python3"
    },
    "language_info": {
      "name": "python"
    }
  },
  "nbformat": 4,
  "nbformat_minor": 0
}